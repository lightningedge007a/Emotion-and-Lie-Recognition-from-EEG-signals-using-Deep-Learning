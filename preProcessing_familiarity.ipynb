{
 "cells": [
  {
   "cell_type": "code",
   "execution_count": null,
   "metadata": {},
   "outputs": [],
   "source": []
  },
  {
   "cell_type": "code",
   "execution_count": 1,
   "metadata": {
    "ExecuteTime": {
     "end_time": "2019-11-06T14:34:40.193288Z",
     "start_time": "2019-11-06T14:34:38.906378Z"
    }
   },
   "outputs": [],
   "source": [
    "import numpy as np\n",
    "import os\n",
    "import time\n",
    "import scipy.io as sio\n",
    "import pandas as pd\n",
    "import time\n",
    "import pickle\n",
    "\n",
    "np.random.seed(0)\n",
    "\n",
    "def windows(data, size):\n",
    "    start = 0\n",
    "    while ((start+size) < data.shape[0]):\n",
    "        yield int(start), int(start + size)\n",
    "        start += size\n",
    "        \n",
    "def data_1Dto2D(data, Y=9, X=9):\n",
    "    data_2D = np.zeros([Y, X])\n",
    "    data_2D[0] = (0,0,0,data[0],0,data[16],0,0,0)\n",
    "    data_2D[1] = (0,0,0,data[1],0,data[17],0,0,0)\n",
    "    data_2D[2] = (data[3],0,data[2],0,data[18],0,data[19],0,data[20])\n",
    "    data_2D[3] = (0,data[4],0,data[5],0,data[22],0,data[21],0)\n",
    "    data_2D[4] = (data[7],0,data[6],0,data[23],0,data[24],0,data[25])\n",
    "    data_2D[5] = (0,data[8],0,data[9],0,data[27],0,data[26],0)\n",
    "    data_2D[6] = (data[11],0,data[10],0,data[15],0,data[28],0,data[29])\n",
    "    data_2D[7] = (0,0,0,data[12],0,data[30],0,0,0)\n",
    "    data_2D[8] = (0,0,0,data[13],data[14],data[31],0,0,0)\n",
    "    # return shape:9*9\n",
    "    return data_2D\n",
    "\n",
    "\n",
    "def dataset_1Dto2D(dataset_1D):\n",
    "    dataset_2D = np.zeros([dataset_1D.shape[0],9,9])\n",
    "    for i in range(dataset_1D.shape[0]):\n",
    "        dataset_2D[i] = data_1Dto2D(dataset_1D[i])\n",
    "    # return shape: m*9*9\n",
    "    return dataset_2D\n",
    "\n",
    "def apply_mixup(dataset_file,window_size,label,yes_or_not,fam_label): # initial empty label arrays\n",
    "    \n",
    "    print(\"Processing\",dataset_file,'----------------')\n",
    "    \n",
    "#     file=dataset_dir+record_list[0]\n",
    "#     label='valence'\n",
    "    data_file_in = sio.loadmat(dataset_file)\n",
    "#     print(data_file_in['data'].shape)\n",
    "#     print(data_file_in['data'].transpose(0,2,1).shape)\n",
    "    data_in = data_file_in[\"data\"].transpose(0,2,1)\n",
    "    if label==\"arousal\":\n",
    "        label=1\n",
    "    elif label==\"valence\":\n",
    "        label=0\n",
    "    label_in=fam_label>3\n",
    "#     label_in= data_file_in[\"labels\"][:,label]>5\n",
    "#     print(label_in.shape,label_in[1])\n",
    "    # label_in\n",
    "    label_inter\t= np.empty([0]) # initial empty data arrays\n",
    "    data_inter_cnn\t= np.empty([0,window_size, 9, 9])\n",
    "    data_inter_rnn\t= np.empty([0, window_size, 32])\n",
    "    trials = data_in.shape[0]\n",
    "#     print(data_inter_cnn.shape,data_inter_rnn.shape,trials)\n",
    "    # Data pre-processing\n",
    "    # for trial in range(0,trials):\n",
    "    # data_inter_cnn[0]\n",
    "    # print(data_in)\n",
    "#     yes_or_not='yes'\n",
    "    for trial in range(0,trials):#trials\n",
    "        if yes_or_not==\"yes\":\n",
    "            base_signal = (data_in[trial,0:128,0:32]+data_in[trial,128:256,0:32]+data_in[trial,256:384,0:32])/3\n",
    "    #         print(base_signal.shape)\n",
    "    #         base_signal/=3\n",
    "    #         print('+++++',base_signal.shape)\n",
    "\n",
    "        else:\n",
    "            base_signal = 0\n",
    "        data = data_in[trial,384:8064,0:32]\n",
    "    #     print(data.shape)\n",
    "        # compute the deviation between baseline signals and experimental signals\n",
    "        for i in range(0,60):\n",
    "            data[i*128:(i+1)*128,0:32]=data[i*128:(i+1)*128,0:32]-base_signal\n",
    "        label_index = trial\n",
    "    #     print(data.shape)\n",
    "#         label_index = trial\n",
    "        #read data and label\n",
    "    #     data = norm_dataset(data)\n",
    "\n",
    "        norm_dataset_1D = np.zeros([data.shape[0], 32])\n",
    "        for i in range(data.shape[0]):\n",
    "    #         norm_dataset_1D[i] = feature_normalize(data[i])\n",
    "            data_i=data[i]\n",
    "            mean = data_i[data_i.nonzero()].mean()\n",
    "            sigma = data_i[data_i. nonzero ()].std()\n",
    "            data_normalized = data_i\n",
    "            data_normalized[data_normalized.nonzero()] = (data_normalized[data_normalized.nonzero()] - mean)/sigma\n",
    "\n",
    "            norm_dataset_1D[i]=data_normalized\n",
    "\n",
    "        # 8064 - 7680 = 384 = 128*3 (for 3 secs & 128 hertz each)\n",
    "    #     print('=======')\n",
    "    #     print(norm_dataset_1D.shape)\n",
    "\n",
    "\n",
    "    #     data, label = segment_signal_without_transition(data, label_in,label_index,window_size)\n",
    "\n",
    "\n",
    "        for (start, end) in windows(data, window_size):\n",
    "            # print(data.shape)\n",
    "            if((len(data[start:end]) == window_size)):\n",
    "                if(start == 0):\n",
    "                    segments = data[start:end]\n",
    "                    segments = np.vstack([segments, data[start:end]])\n",
    "\n",
    "                    labels = np.array(label_in[label_index])\n",
    "                    labels = np.append(labels, np.array(label_in[label_index]))\n",
    "                else:\n",
    "                    segments = np.vstack([segments, data[start:end]])\n",
    "                    labels = np.append(labels, np.array(label_in[label_index])) # labels = np.append(labels, stats.mode(label[start:end])[0][0])\n",
    "    #     return segments, labels\n",
    "        data,label=segments,labels\n",
    "\n",
    "    #     print(trial,'trial ',data.shape,label.shape)\n",
    "\n",
    "        # cnn data process\n",
    "    #     print('++++++++')\n",
    "        data_cnn    = dataset_1Dto2D(data)\n",
    "    #     print(data_cnn.shape)\n",
    "        data_cnn    = data_cnn.reshape(int(data_cnn.shape[0]/window_size), window_size, 9, 9)\n",
    "    #     print(data_cnn.shape)\n",
    "        # rnn data process\n",
    "        data_rnn    = data.reshape(int(data.shape[0]/window_size), window_size, 32)\n",
    "    #     print(data_rnn.shape)\n",
    "        # append new data and label\n",
    "        data_inter_cnn  = np.vstack([data_inter_cnn, data_cnn])\n",
    "        data_inter_rnn  = np.vstack([data_inter_rnn, data_rnn])\n",
    "        label_inter = np.append(label_inter, label)\n",
    "    #     print(data_inter_cnn.shape)\n",
    "    #     print(data_inter_rnn.shape)\n",
    "    #     print(label_inter.shape)\n",
    "\n",
    "    # shuffle data\n",
    "    index = np.array(range(0, len(label_inter)))\n",
    "    np.random.shuffle(index)\n",
    "    shuffled_data_cnn= data_inter_cnn[index]\n",
    "    shuffled_data_rnn= data_inter_rnn[index]\n",
    "    shuffled_label= label_inter[index]\n",
    "#     print(shuffled_data_cnn.shape) # what is 120 for 120,128,9,9\n",
    "#     print(shuffled_data_rnn.shape)\n",
    "#     print(shuffled_label.shape)\n",
    "#     print(len(record_list))\n",
    "    return shuffled_data_cnn ,shuffled_data_rnn,shuffled_label,record_list\n"
   ]
  },
  {
   "cell_type": "code",
   "execution_count": 2,
   "metadata": {
    "ExecuteTime": {
     "end_time": "2019-11-06T14:35:03.988525Z",
     "start_time": "2019-11-06T14:35:03.984767Z"
    }
   },
   "outputs": [],
   "source": [
    "label_classes_list=['familiarity']\n",
    "suffixes_list=['no','yes']"
   ]
  },
  {
   "cell_type": "code",
   "execution_count": 3,
   "metadata": {
    "ExecuteTime": {
     "end_time": "2019-11-06T14:35:08.340114Z",
     "start_time": "2019-11-06T14:35:08.331957Z"
    }
   },
   "outputs": [],
   "source": [
    "#label_in= data_file_in[\"labels\"][:,label]>5"
   ]
  },
  {
   "cell_type": "code",
   "execution_count": 4,
   "metadata": {
    "ExecuteTime": {
     "end_time": "2019-11-06T14:52:13.276451Z",
     "start_time": "2019-11-06T14:35:24.978712Z"
    },
    "scrolled": true
   },
   "outputs": [
    {
     "name": "stdout",
     "output_type": "stream",
     "text": [
      "----------------------------------------------------------------\n",
      "label_class =  familiarity suffix =  no\n",
      "Processing deap_matlab_files/s01.mat ----------------\n",
      "record  1  time ->  38.621333360672\n",
      "Processing deap_matlab_files/s03.mat ----------------\n",
      "record  2  time ->  41.47250723838806\n",
      "Processing deap_matlab_files/s04.mat ----------------\n",
      "record  3  time ->  21.00308346748352\n",
      "Processing deap_matlab_files/s05.mat ----------------\n",
      "record  4  time ->  15.966233015060425\n",
      "Processing deap_matlab_files/s06.mat ----------------\n",
      "record  5  time ->  16.892324686050415\n",
      "Processing deap_matlab_files/s07.mat ----------------\n",
      "record  6  time ->  17.502416372299194\n",
      "Processing deap_matlab_files/s08.mat ----------------\n",
      "record  7  time ->  18.63066029548645\n",
      "Processing deap_matlab_files/s09.mat ----------------\n",
      "record  8  time ->  18.17702054977417\n",
      "Processing deap_matlab_files/s10.mat ----------------\n",
      "record  9  time ->  17.393477201461792\n",
      "Processing deap_matlab_files/s11.mat ----------------\n",
      "record  10  time ->  17.673654317855835\n",
      "Processing deap_matlab_files/s12.mat ----------------\n",
      "record  11  time ->  16.817599296569824\n",
      "Processing deap_matlab_files/s13.mat ----------------\n",
      "record  12  time ->  16.47433042526245\n",
      "Processing deap_matlab_files/s14.mat ----------------\n",
      "record  13  time ->  16.86282253265381\n",
      "Processing deap_matlab_files/s16.mat ----------------\n",
      "record  14  time ->  16.663302421569824\n",
      "Processing deap_matlab_files/s17.mat ----------------\n",
      "record  15  time ->  16.872900009155273\n",
      "Processing deap_matlab_files/s18.mat ----------------\n",
      "record  16  time ->  17.160442113876343\n",
      "Processing deap_matlab_files/s19.mat ----------------\n",
      "record  17  time ->  16.074339389801025\n",
      "Processing deap_matlab_files/s20.mat ----------------\n",
      "record  18  time ->  16.041710138320923\n",
      "Processing deap_matlab_files/s21.mat ----------------\n",
      "record  19  time ->  16.078378915786743\n",
      "Processing deap_matlab_files/s22.mat ----------------\n",
      "record  20  time ->  16.002328634262085\n",
      "Processing deap_matlab_files/s24.mat ----------------\n",
      "record  21  time ->  15.956785440444946\n",
      "Processing deap_matlab_files/s25.mat ----------------\n",
      "record  22  time ->  16.037861585617065\n",
      "Processing deap_matlab_files/s26.mat ----------------\n",
      "record  23  time ->  16.01659917831421\n",
      "Processing deap_matlab_files/s27.mat ----------------\n",
      "record  24  time ->  16.21457552909851\n",
      "Processing deap_matlab_files/s28.mat ----------------\n",
      "record  25  time ->  16.311771154403687\n",
      "Processing deap_matlab_files/s29.mat ----------------\n",
      "record  26  time ->  15.982810258865356\n",
      "Processing deap_matlab_files/s30.mat ----------------\n",
      "record  27  time ->  17.165415287017822\n",
      "Processing deap_matlab_files/s31.mat ----------------\n",
      "record  28  time ->  17.494790077209473\n",
      "Processing deap_matlab_files/s32.mat ----------------\n",
      "record  29  time ->  16.710184574127197\n",
      "combination time ->  536.2953248023987\n",
      "----------------------------------------------------------------\n",
      "----------------------------------------------------------------\n",
      "label_class =  familiarity suffix =  yes\n",
      "Processing deap_matlab_files/s01.mat ----------------\n",
      "record  30  time ->  17.189549684524536\n",
      "Processing deap_matlab_files/s03.mat ----------------\n",
      "record  31  time ->  17.54006052017212\n",
      "Processing deap_matlab_files/s04.mat ----------------\n",
      "record  32  time ->  17.314435243606567\n",
      "Processing deap_matlab_files/s05.mat ----------------\n",
      "record  33  time ->  16.880000352859497\n",
      "Processing deap_matlab_files/s06.mat ----------------\n",
      "record  34  time ->  16.765414476394653\n",
      "Processing deap_matlab_files/s07.mat ----------------\n",
      "record  35  time ->  17.09929132461548\n",
      "Processing deap_matlab_files/s08.mat ----------------\n",
      "record  36  time ->  17.080220699310303\n",
      "Processing deap_matlab_files/s09.mat ----------------\n",
      "record  37  time ->  16.08227777481079\n",
      "Processing deap_matlab_files/s10.mat ----------------\n",
      "record  38  time ->  15.941150903701782\n",
      "Processing deap_matlab_files/s11.mat ----------------\n",
      "record  39  time ->  15.949293851852417\n",
      "Processing deap_matlab_files/s12.mat ----------------\n",
      "record  40  time ->  15.971385478973389\n",
      "Processing deap_matlab_files/s13.mat ----------------\n",
      "record  41  time ->  15.985293626785278\n",
      "Processing deap_matlab_files/s14.mat ----------------\n",
      "record  42  time ->  15.871986627578735\n",
      "Processing deap_matlab_files/s16.mat ----------------\n",
      "record  43  time ->  16.217803716659546\n",
      "Processing deap_matlab_files/s17.mat ----------------\n",
      "record  44  time ->  15.913572311401367\n",
      "Processing deap_matlab_files/s18.mat ----------------\n",
      "record  45  time ->  15.993603706359863\n",
      "Processing deap_matlab_files/s19.mat ----------------\n",
      "record  46  time ->  15.959951877593994\n",
      "Processing deap_matlab_files/s20.mat ----------------\n",
      "record  47  time ->  15.917842388153076\n",
      "Processing deap_matlab_files/s21.mat ----------------\n",
      "record  48  time ->  15.914416790008545\n",
      "Processing deap_matlab_files/s22.mat ----------------\n",
      "record  49  time ->  15.883119344711304\n",
      "Processing deap_matlab_files/s24.mat ----------------\n",
      "record  50  time ->  15.85690689086914\n",
      "Processing deap_matlab_files/s25.mat ----------------\n",
      "record  51  time ->  16.137250423431396\n",
      "Processing deap_matlab_files/s26.mat ----------------\n",
      "record  52  time ->  16.00021743774414\n",
      "Processing deap_matlab_files/s27.mat ----------------\n",
      "record  53  time ->  16.508843660354614\n",
      "Processing deap_matlab_files/s28.mat ----------------\n",
      "record  54  time ->  16.050570011138916\n",
      "Processing deap_matlab_files/s29.mat ----------------\n",
      "record  55  time ->  16.132492780685425\n",
      "Processing deap_matlab_files/s30.mat ----------------\n",
      "record  56  time ->  15.90136194229126\n",
      "Processing deap_matlab_files/s31.mat ----------------\n",
      "record  57  time ->  15.910132884979248\n",
      "Processing deap_matlab_files/s32.mat ----------------\n",
      "record  58  time ->  16.007397174835205\n",
      "combination time ->  471.98581886291504\n",
      "----------------------------------------------------------------\n",
      "total time ->  1008.2821416854858\n"
     ]
    }
   ],
   "source": [
    "begin=time.time()\n",
    "count=1\n",
    "for label_class in label_classes_list:\n",
    "    for suffix in suffixes_list:\n",
    "        print('----------------------------------------------------------------')\n",
    "        print('label_class = ',label_class,'suffix = ',suffix)\n",
    "        begin1 = time.time()\n",
    "        # print(\"time begin:\",time.localtime())\n",
    "        dataset_dir='deap_matlab_files/'\n",
    "        \n",
    "        \n",
    "        \n",
    "        \n",
    "#         label_class='arousal'\n",
    "#         suffix='yes'\n",
    "        window_size=128\n",
    "        record_list=[i for i in os.listdir(dataset_dir) if \n",
    "                     os.path.isfile(os.path.join(dataset_dir,i))]\n",
    "        # record_list\n",
    "        output_dir=   \"./deap_shuffled_data/\"\n",
    "        output_dir = output_dir+suffix+\"_\"+label_class+\"/\"\n",
    "        if os.path.isdir(output_dir)==False:\n",
    "                os.makedirs(output_dir)\n",
    "\n",
    "        for i in record_list:\n",
    "            begin2=time.time()\n",
    "            \n",
    "            file = os.path.join(dataset_dir,i)\n",
    "            \n",
    "            \n",
    "            snf=int(file[-6:-4])\n",
    "            pkllist=os.listdir('familiarity_pkl/')\n",
    "            if('sub_'+str(snf)+'.pkl' in pkllist):\n",
    "                fam_label=pickle.load(open('familiarity_pkl/sub_'+str(snf)+'.pkl','rb'))\n",
    "    #             print(snf,fam_label.shape)\n",
    "            else:\n",
    "                continue\n",
    "            \n",
    "            \n",
    "            \n",
    "            shuffled_cnn_data,shuffled_rnn_data,shuffled_label,record = apply_mixup(file, window_size,label_class,suffix,fam_label)\n",
    "            output_data_cnn = output_dir+i+\"_win_\"+str(window_size)+\"_cnn_dataset.pkl\"\n",
    "            output_data_rnn = output_dir+i+\"_win_\"+str(window_size)+\"_rnn_dataset.pkl\"\n",
    "            output_label= output_dir+i+\"_win_\"+str(window_size)+\"_labels.pkl\"\n",
    "\n",
    "            with open(output_data_cnn, \"wb\") as fp:\n",
    "                pickle.dump( shuffled_cnn_data,fp, protocol=4)\n",
    "            with open( output_data_rnn, \"wb\") as fp:\n",
    "                pickle.dump(shuffled_rnn_data, fp, protocol=4)\n",
    "            with open(output_label, \"wb\") as fp:\n",
    "                pickle.dump(shuffled_label, fp)\n",
    "                \n",
    "            end2=time.time()\n",
    "            print('record ',count,' time -> ',(end2-begin2))\n",
    "            count+=1\n",
    "        \n",
    "        end1 = time.time()\n",
    "        #     print(\"end time:\",time.localtime())\n",
    "        # https://stackoverflow.com/questions/23582489/python-pickle-protocol-choice\n",
    "        print('combination time -> ',(end1-begin1))\n",
    "        print('----------------------------------------------------------------')\n",
    "\n",
    "end=time.time()\n",
    "print('total time -> ',(end-begin))"
   ]
  },
  {
   "cell_type": "code",
   "execution_count": 5,
   "metadata": {
    "ExecuteTime": {
     "end_time": "2019-11-06T14:53:35.710830Z",
     "start_time": "2019-11-06T14:53:35.701846Z"
    }
   },
   "outputs": [
    {
     "data": {
      "text/plain": [
       "16.804702361424763"
      ]
     },
     "execution_count": 5,
     "metadata": {},
     "output_type": "execute_result"
    }
   ],
   "source": [
    "1008.2821416854858/60"
   ]
  },
  {
   "cell_type": "code",
   "execution_count": null,
   "metadata": {},
   "outputs": [],
   "source": []
  },
  {
   "cell_type": "code",
   "execution_count": null,
   "metadata": {},
   "outputs": [],
   "source": []
  },
  {
   "cell_type": "code",
   "execution_count": null,
   "metadata": {},
   "outputs": [],
   "source": []
  },
  {
   "cell_type": "code",
   "execution_count": null,
   "metadata": {},
   "outputs": [],
   "source": []
  },
  {
   "cell_type": "code",
   "execution_count": 4,
   "metadata": {},
   "outputs": [
    {
     "data": {
      "text/plain": [
       "62.98066592613856"
      ]
     },
     "execution_count": 4,
     "metadata": {},
     "output_type": "execute_result"
    }
   ],
   "source": [
    "3778.8399555683136/60.0"
   ]
  },
  {
   "cell_type": "code",
   "execution_count": 5,
   "metadata": {},
   "outputs": [
    {
     "data": {
      "text/plain": [
       "59.36365000009537"
      ]
     },
     "execution_count": 5,
     "metadata": {},
     "output_type": "execute_result"
    }
   ],
   "source": [
    " 3561.819000005722/60"
   ]
  },
  {
   "cell_type": "code",
   "execution_count": 23,
   "metadata": {
    "scrolled": true
   },
   "outputs": [
    {
     "name": "stdout",
     "output_type": "stream",
     "text": [
      "1 (40,)\n",
      "3 (40,)\n",
      "4 (40,)\n",
      "5 (40,)\n",
      "6 (40,)\n",
      "7 (40,)\n",
      "8 (40,)\n",
      "9 (40,)\n",
      "10 (40,)\n",
      "11 (40,)\n",
      "12 (40,)\n",
      "13 (40,)\n",
      "14 (40,)\n",
      "16 (40,)\n",
      "17 (40,)\n",
      "18 (40,)\n",
      "19 (40,)\n",
      "20 (40,)\n",
      "21 (40,)\n",
      "22 (40,)\n",
      "24 (40,)\n",
      "25 (40,)\n",
      "26 (40,)\n",
      "27 (40,)\n",
      "28 (40,)\n",
      "29 (40,)\n",
      "30 (40,)\n",
      "31 (40,)\n",
      "32 (40,)\n",
      "1 (40,)\n",
      "3 (40,)\n",
      "4 (40,)\n",
      "5 (40,)\n",
      "6 (40,)\n",
      "7 (40,)\n",
      "8 (40,)\n",
      "9 (40,)\n",
      "10 (40,)\n",
      "11 (40,)\n",
      "12 (40,)\n",
      "13 (40,)\n",
      "14 (40,)\n",
      "16 (40,)\n",
      "17 (40,)\n",
      "18 (40,)\n",
      "19 (40,)\n",
      "20 (40,)\n",
      "21 (40,)\n",
      "22 (40,)\n",
      "24 (40,)\n",
      "25 (40,)\n",
      "26 (40,)\n",
      "27 (40,)\n",
      "28 (40,)\n",
      "29 (40,)\n",
      "30 (40,)\n",
      "31 (40,)\n",
      "32 (40,)\n"
     ]
    }
   ],
   "source": [
    "for label_class in label_classes_list:\n",
    "    for suffix in suffixes_list:\n",
    "        dataset_dir='deap_matlab_files/'\n",
    "        record_list=[i for i in os.listdir(dataset_dir) if os.path.isfile(os.path.join(dataset_dir,i))]\n",
    "        #         record_list\n",
    "        output_dir=   \"./deap_shuffled_data2/\"\n",
    "        output_dir = output_dir+suffix+\"_\"+label_class+\"/\"\n",
    "        if os.path.isdir(output_dir)==False:\n",
    "                os.makedirs(output_dir)\n",
    "\n",
    "        for i in record_list:\n",
    "\n",
    "            file = os.path.join(dataset_dir,i)\n",
    "            snf=int(file[-6:-4])\n",
    "            pkllist=os.listdir('familiarity_pkl/')\n",
    "            if('sub_'+str(snf)+'.pkl' in pkllist):\n",
    "                fam_label=pickle.load(open('familiarity_pkl/sub_'+str(snf)+'.pkl','rb'))\n",
    "                print(snf,fam_label.shape)\n",
    "#             shuffled_cnn_data,shuffled_rnn_data,shuffled_label,record = apply_mixup(file, window_size,label_class,suffix)"
   ]
  },
  {
   "cell_type": "code",
   "execution_count": 22,
   "metadata": {},
   "outputs": [
    {
     "data": {
      "text/plain": [
       "'9'"
      ]
     },
     "execution_count": 22,
     "metadata": {},
     "output_type": "execute_result"
    }
   ],
   "source": [
    "str(9)"
   ]
  },
  {
   "cell_type": "code",
   "execution_count": 12,
   "metadata": {},
   "outputs": [],
   "source": [
    "df=sio.loadmat('deap_matlab_files/s01.mat')"
   ]
  },
  {
   "cell_type": "code",
   "execution_count": 17,
   "metadata": {},
   "outputs": [
    {
     "data": {
      "text/plain": [
       "(40,)"
      ]
     },
     "execution_count": 17,
     "metadata": {},
     "output_type": "execute_result"
    }
   ],
   "source": [
    "df['labels'][:,1].shape"
   ]
  },
  {
   "cell_type": "code",
   "execution_count": null,
   "metadata": {},
   "outputs": [],
   "source": []
  }
 ],
 "metadata": {
  "hide_input": false,
  "kernelspec": {
   "display_name": "Python 3",
   "language": "python",
   "name": "python3"
  },
  "language_info": {
   "codemirror_mode": {
    "name": "ipython",
    "version": 3
   },
   "file_extension": ".py",
   "mimetype": "text/x-python",
   "name": "python",
   "nbconvert_exporter": "python",
   "pygments_lexer": "ipython3",
   "version": "3.7.4"
  },
  "toc": {
   "base_numbering": 1,
   "nav_menu": {},
   "number_sections": true,
   "sideBar": true,
   "skip_h1_title": false,
   "title_cell": "Table of Contents",
   "title_sidebar": "Contents",
   "toc_cell": false,
   "toc_position": {},
   "toc_section_display": true,
   "toc_window_display": false
  },
  "varInspector": {
   "cols": {
    "lenName": 16,
    "lenType": 16,
    "lenVar": 40
   },
   "kernels_config": {
    "python": {
     "delete_cmd_postfix": "",
     "delete_cmd_prefix": "del ",
     "library": "var_list.py",
     "varRefreshCmd": "print(var_dic_list())"
    },
    "r": {
     "delete_cmd_postfix": ") ",
     "delete_cmd_prefix": "rm(",
     "library": "var_list.r",
     "varRefreshCmd": "cat(var_dic_list()) "
    }
   },
   "types_to_exclude": [
    "module",
    "function",
    "builtin_function_or_method",
    "instance",
    "_Feature"
   ],
   "window_display": false
  }
 },
 "nbformat": 4,
 "nbformat_minor": 2
}
