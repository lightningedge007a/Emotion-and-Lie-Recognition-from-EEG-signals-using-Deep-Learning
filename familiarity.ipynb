{
 "cells": [
  {
   "cell_type": "code",
   "execution_count": 1,
   "metadata": {
    "ExecuteTime": {
     "end_time": "2019-11-06T14:33:18.390279Z",
     "start_time": "2019-11-06T14:33:15.866586Z"
    }
   },
   "outputs": [],
   "source": [
    "import numpy as np\n",
    "import pandas as pd"
   ]
  },
  {
   "cell_type": "code",
   "execution_count": 2,
   "metadata": {
    "ExecuteTime": {
     "end_time": "2019-11-06T14:33:18.654268Z",
     "start_time": "2019-11-06T14:33:18.617750Z"
    },
    "scrolled": true
   },
   "outputs": [
    {
     "data": {
      "text/plain": [
       "(1280, 3)"
      ]
     },
     "execution_count": 2,
     "metadata": {},
     "output_type": "execute_result"
    }
   ],
   "source": [
    "df=pd.read_csv('participant_ratings.csv')\n",
    "df=df[['Participant_id','Trial','Familiarity']]\n",
    "df.shape"
   ]
  },
  {
   "cell_type": "code",
   "execution_count": 3,
   "metadata": {
    "ExecuteTime": {
     "end_time": "2019-11-06T14:33:19.372089Z",
     "start_time": "2019-11-06T14:33:19.355376Z"
    }
   },
   "outputs": [
    {
     "data": {
      "text/plain": [
       "Participant_id      0\n",
       "Trial               0\n",
       "Familiarity       120\n",
       "dtype: int64"
      ]
     },
     "execution_count": 3,
     "metadata": {},
     "output_type": "execute_result"
    }
   ],
   "source": [
    "df.isnull().sum()"
   ]
  },
  {
   "cell_type": "code",
   "execution_count": 4,
   "metadata": {
    "ExecuteTime": {
     "end_time": "2019-11-06T14:33:19.682239Z",
     "start_time": "2019-11-06T14:33:19.671073Z"
    }
   },
   "outputs": [],
   "source": [
    "df.dropna(inplace=True)"
   ]
  },
  {
   "cell_type": "code",
   "execution_count": 5,
   "metadata": {
    "ExecuteTime": {
     "end_time": "2019-11-06T14:33:20.230720Z",
     "start_time": "2019-11-06T14:33:20.219681Z"
    }
   },
   "outputs": [
    {
     "data": {
      "text/plain": [
       "Participant_id    0\n",
       "Trial             0\n",
       "Familiarity       0\n",
       "dtype: int64"
      ]
     },
     "execution_count": 5,
     "metadata": {},
     "output_type": "execute_result"
    }
   ],
   "source": [
    "df.isnull().sum()"
   ]
  },
  {
   "cell_type": "code",
   "execution_count": 6,
   "metadata": {
    "ExecuteTime": {
     "end_time": "2019-11-06T14:33:20.700889Z",
     "start_time": "2019-11-06T14:33:20.694011Z"
    }
   },
   "outputs": [
    {
     "data": {
      "text/plain": [
       "(1160, 3)"
      ]
     },
     "execution_count": 6,
     "metadata": {},
     "output_type": "execute_result"
    }
   ],
   "source": [
    "df.shape"
   ]
  },
  {
   "cell_type": "code",
   "execution_count": 7,
   "metadata": {
    "ExecuteTime": {
     "end_time": "2019-11-06T14:33:21.783117Z",
     "start_time": "2019-11-06T14:33:21.772704Z"
    }
   },
   "outputs": [
    {
     "data": {
      "text/plain": [
       "(array([ 1,  3,  4,  5,  6,  7,  8,  9, 10, 11, 12, 13, 14, 16, 17, 18, 19,\n",
       "        20, 21, 22, 24, 25, 26, 27, 28, 29, 30, 31, 32]), (29,))"
      ]
     },
     "execution_count": 7,
     "metadata": {},
     "output_type": "execute_result"
    }
   ],
   "source": [
    "subs=np.array(list((set(df['Participant_id']))))\n",
    "subs,subs.shape"
   ]
  },
  {
   "cell_type": "code",
   "execution_count": 8,
   "metadata": {
    "ExecuteTime": {
     "end_time": "2019-11-06T14:33:22.618998Z",
     "start_time": "2019-11-06T14:33:22.612494Z"
    }
   },
   "outputs": [
    {
     "data": {
      "text/plain": [
       "Index(['Participant_id', 'Trial', 'Familiarity'], dtype='object')"
      ]
     },
     "execution_count": 8,
     "metadata": {},
     "output_type": "execute_result"
    }
   ],
   "source": [
    "cols=df.columns\n",
    "cols"
   ]
  },
  {
   "cell_type": "code",
   "execution_count": 10,
   "metadata": {
    "ExecuteTime": {
     "end_time": "2019-11-06T14:34:00.465009Z",
     "start_time": "2019-11-06T14:34:00.285575Z"
    }
   },
   "outputs": [
    {
     "name": "stdout",
     "output_type": "stream",
     "text": [
      "1 1 (40, 3)\n",
      "2 3 (40, 3)\n",
      "3 4 (40, 3)\n",
      "4 5 (40, 3)\n",
      "5 6 (40, 3)\n",
      "6 7 (40, 3)\n",
      "7 8 (40, 3)\n",
      "8 9 (40, 3)\n",
      "9 10 (40, 3)\n",
      "10 11 (40, 3)\n",
      "11 12 (40, 3)\n",
      "12 13 (40, 3)\n",
      "13 14 (40, 3)\n",
      "14 16 (40, 3)\n",
      "15 17 (40, 3)\n",
      "16 18 (40, 3)\n",
      "17 19 (40, 3)\n",
      "18 20 (40, 3)\n",
      "19 21 (40, 3)\n",
      "20 22 (40, 3)\n",
      "21 24 (40, 3)\n",
      "22 25 (40, 3)\n",
      "23 26 (40, 3)\n",
      "24 27 (40, 3)\n",
      "25 28 (40, 3)\n",
      "26 29 (40, 3)\n",
      "27 30 (40, 3)\n",
      "28 31 (40, 3)\n",
      "29 32 (40, 3)\n"
     ]
    }
   ],
   "source": [
    "c=1\n",
    "for i in subs:\n",
    "    dfnew=df[df['Participant_id']==i]\n",
    "    print(c,i,dfnew.shape)\n",
    "    c+=1\n",
    "    dfnew.to_csv('familiarity/sub_'+str(i)+'_.csv')"
   ]
  },
  {
   "cell_type": "code",
   "execution_count": 11,
   "metadata": {
    "ExecuteTime": {
     "end_time": "2019-11-06T14:34:03.189277Z",
     "start_time": "2019-11-06T14:34:03.183380Z"
    }
   },
   "outputs": [],
   "source": [
    "import os\n",
    "import pickle"
   ]
  },
  {
   "cell_type": "code",
   "execution_count": 12,
   "metadata": {
    "ExecuteTime": {
     "end_time": "2019-11-06T14:34:05.275220Z",
     "start_time": "2019-11-06T14:34:05.263351Z"
    },
    "scrolled": true
   },
   "outputs": [
    {
     "data": {
      "text/plain": [
       "(29,\n",
       " ['sub_10_.csv',\n",
       "  'sub_11_.csv',\n",
       "  'sub_12_.csv',\n",
       "  'sub_13_.csv',\n",
       "  'sub_14_.csv',\n",
       "  'sub_16_.csv',\n",
       "  'sub_17_.csv',\n",
       "  'sub_18_.csv',\n",
       "  'sub_19_.csv',\n",
       "  'sub_1_.csv',\n",
       "  'sub_20_.csv',\n",
       "  'sub_21_.csv',\n",
       "  'sub_22_.csv',\n",
       "  'sub_24_.csv',\n",
       "  'sub_25_.csv',\n",
       "  'sub_26_.csv',\n",
       "  'sub_27_.csv',\n",
       "  'sub_28_.csv',\n",
       "  'sub_29_.csv',\n",
       "  'sub_30_.csv',\n",
       "  'sub_31_.csv',\n",
       "  'sub_32_.csv',\n",
       "  'sub_3_.csv',\n",
       "  'sub_4_.csv',\n",
       "  'sub_5_.csv',\n",
       "  'sub_6_.csv',\n",
       "  'sub_7_.csv',\n",
       "  'sub_8_.csv',\n",
       "  'sub_9_.csv'])"
      ]
     },
     "execution_count": 12,
     "metadata": {},
     "output_type": "execute_result"
    }
   ],
   "source": [
    "l=os.listdir('familiarity/')\n",
    "len(l),l"
   ]
  },
  {
   "cell_type": "code",
   "execution_count": 13,
   "metadata": {
    "ExecuteTime": {
     "end_time": "2019-11-06T14:34:10.950194Z",
     "start_time": "2019-11-06T14:34:10.813594Z"
    }
   },
   "outputs": [
    {
     "name": "stdout",
     "output_type": "stream",
     "text": [
      "10 (40,)\n",
      "11 (40,)\n",
      "12 (40,)\n",
      "13 (40,)\n",
      "14 (40,)\n",
      "16 (40,)\n",
      "17 (40,)\n",
      "18 (40,)\n",
      "19 (40,)\n",
      "1 (40,)\n",
      "20 (40,)\n",
      "21 (40,)\n",
      "22 (40,)\n",
      "24 (40,)\n",
      "25 (40,)\n",
      "26 (40,)\n",
      "27 (40,)\n",
      "28 (40,)\n",
      "29 (40,)\n",
      "30 (40,)\n",
      "31 (40,)\n",
      "32 (40,)\n",
      "3 (40,)\n",
      "4 (40,)\n",
      "5 (40,)\n",
      "6 (40,)\n",
      "7 (40,)\n",
      "8 (40,)\n",
      "9 (40,)\n"
     ]
    }
   ],
   "source": [
    "for i in l:\n",
    "    sn=i.split('_')[1]\n",
    "    df=pd.read_csv('familiarity/'+i)\n",
    "    arr=np.array(df['Familiarity'])\n",
    "    print(sn,arr.shape)\n",
    "    pickle.dump(arr,open('familiarity_pkl/sub_'+sn+'.pkl','wb'))"
   ]
  },
  {
   "cell_type": "code",
   "execution_count": 14,
   "metadata": {
    "ExecuteTime": {
     "end_time": "2019-11-06T14:34:11.380835Z",
     "start_time": "2019-11-06T14:34:11.353334Z"
    }
   },
   "outputs": [
    {
     "name": "stdout",
     "output_type": "stream",
     "text": [
      "sub_1.pkl (40,)\n",
      "sub_10.pkl (40,)\n",
      "sub_11.pkl (40,)\n",
      "sub_12.pkl (40,)\n",
      "sub_13.pkl (40,)\n",
      "sub_14.pkl (40,)\n",
      "sub_16.pkl (40,)\n",
      "sub_17.pkl (40,)\n",
      "sub_18.pkl (40,)\n",
      "sub_19.pkl (40,)\n",
      "sub_20.pkl (40,)\n",
      "sub_21.pkl (40,)\n",
      "sub_22.pkl (40,)\n",
      "sub_24.pkl (40,)\n",
      "sub_25.pkl (40,)\n",
      "sub_26.pkl (40,)\n",
      "sub_27.pkl (40,)\n",
      "sub_28.pkl (40,)\n",
      "sub_29.pkl (40,)\n",
      "sub_3.pkl (40,)\n",
      "sub_30.pkl (40,)\n",
      "sub_31.pkl (40,)\n",
      "sub_32.pkl (40,)\n",
      "sub_4.pkl (40,)\n",
      "sub_5.pkl (40,)\n",
      "sub_6.pkl (40,)\n",
      "sub_7.pkl (40,)\n",
      "sub_8.pkl (40,)\n",
      "sub_9.pkl (40,)\n"
     ]
    }
   ],
   "source": [
    "l2=os.listdir('familiarity_pkl/')\n",
    "for i in l2:\n",
    "    a=pickle.load(open('familiarity_pkl/'+i,'rb'))\n",
    "    print(i,a.shape)"
   ]
  },
  {
   "cell_type": "code",
   "execution_count": 15,
   "metadata": {
    "ExecuteTime": {
     "end_time": "2019-11-06T14:34:15.372356Z",
     "start_time": "2019-11-06T14:34:15.331855Z"
    }
   },
   "outputs": [
    {
     "name": "stdout",
     "output_type": "stream",
     "text": [
      "sub_1.pkl [4. 4. 4. 4. 1. 1. 3. 1. 1. 1. 2. 2. 1. 1. 1. 4. 1. 1. 4. 4. 1. 2. 2. 5.\n",
      " 2. 4. 1. 3. 2. 1. 4. 5. 1. 1. 4. 2. 2. 1. 5. 3.]\n",
      "sub_10.pkl [4. 4. 4. 2. 1. 5. 1. 1. 5. 1. 1. 1. 1. 1. 1. 1. 5. 5. 4. 1. 1. 1. 4. 4.\n",
      " 1. 3. 4. 3. 1. 4. 3. 4. 2. 1. 4. 5. 1. 2. 2. 1.]\n",
      "sub_11.pkl [1. 3. 5. 1. 1. 2. 1. 1. 5. 5. 5. 3. 1. 2. 1. 1. 1. 1. 1. 2. 1. 4. 1. 5.\n",
      " 1. 5. 5. 1. 1. 2. 2. 1. 2. 1. 1. 5. 2. 5. 1. 1.]\n",
      "sub_12.pkl [1. 4. 2. 3. 2. 2. 4. 1. 5. 1. 4. 5. 2. 1. 1. 3. 5. 2. 2. 2. 3. 1. 1. 1.\n",
      " 3. 3. 3. 1. 1. 3. 3. 2. 4. 2. 3. 4. 4. 1. 1. 1.]\n",
      "sub_13.pkl [1. 5. 1. 3. 5. 1. 3. 4. 2. 4. 1. 3. 1. 1. 1. 4. 1. 4. 4. 2. 1. 5. 1. 2.\n",
      " 3. 1. 5. 2. 2. 5. 4. 5. 1. 5. 5. 5. 4. 2. 1. 2.]\n",
      "sub_14.pkl [4. 1. 1. 5. 2. 1. 4. 4. 1. 1. 4. 1. 2. 5. 4. 1. 3. 1. 5. 2. 1. 5. 3. 4.\n",
      " 1. 1. 1. 1. 1. 1. 1. 5. 5. 1. 1. 1. 1. 2. 2. 4.]\n",
      "sub_16.pkl [2. 5. 5. 1. 1. 4. 1. 1. 1. 4. 1. 3. 1. 1. 1. 1. 5. 1. 5. 1. 1. 3. 1. 3.\n",
      " 1. 3. 3. 1. 1. 1. 1. 2. 1. 2. 2. 1. 1. 3. 1. 1.]\n",
      "sub_17.pkl [5. 3. 1. 2. 1. 4. 2. 4. 1. 2. 1. 5. 1. 1. 4. 4. 1. 1. 2. 3. 1. 2. 2. 2.\n",
      " 5. 5. 2. 1. 4. 1. 2. 3. 1. 1. 3. 3. 1. 1. 2. 1.]\n",
      "sub_18.pkl [1. 5. 1. 5. 1. 5. 1. 1. 1. 1. 5. 1. 1. 4. 1. 1. 4. 4. 3. 1. 3. 4. 5. 1.\n",
      " 4. 2. 4. 1. 2. 1. 3. 2. 1. 1. 1. 2. 2. 1. 2. 1.]\n",
      "sub_19.pkl [1. 2. 1. 5. 1. 5. 1. 1. 5. 3. 1. 5. 2. 1. 5. 4. 2. 5. 5. 1. 4. 1. 1. 5.\n",
      " 1. 1. 5. 1. 4. 5. 4. 4. 1. 3. 1. 1. 5. 5. 1. 5.]\n",
      "sub_20.pkl [1. 5. 5. 4. 5. 1. 1. 1. 1. 1. 1. 4. 5. 1. 4. 5. 1. 1. 1. 1. 2. 4. 5. 5.\n",
      " 2. 2. 3. 3. 1. 3. 4. 1. 5. 1. 3. 1. 5. 4. 1. 2.]\n",
      "sub_21.pkl [4. 5. 3. 2. 4. 5. 1. 2. 1. 2. 4. 2. 2. 3. 3. 1. 5. 4. 1. 5. 2. 2. 5. 1.\n",
      " 4. 1. 3. 5. 4. 3. 5. 2. 5. 5. 2. 4. 3. 2. 4. 3.]\n",
      "sub_22.pkl [5. 1. 1. 1. 3. 1. 1. 3. 1. 1. 2. 1. 1. 1. 1. 1. 5. 1. 1. 5. 1. 1. 5. 5.\n",
      " 1. 5. 3. 5. 2. 4. 2. 3. 1. 3. 5. 1. 1. 2. 1. 1.]\n",
      "sub_24.pkl [5. 2. 3. 1. 1. 3. 5. 5. 2. 3. 2. 1. 1. 2. 4. 5. 5. 2. 1. 3. 3. 3. 2. 3.\n",
      " 1. 4. 1. 4. 1. 1. 1. 1. 1. 5. 1. 1. 3. 1. 3. 5.]\n",
      "sub_25.pkl [1. 2. 3. 1. 3. 1. 2. 1. 1. 1. 1. 1. 1. 1. 1. 1. 4. 2. 2. 1. 1. 1. 1. 1.\n",
      " 4. 1. 1. 1. 1. 1. 1. 1. 1. 4. 2. 1. 1. 1. 1. 1.]\n",
      "sub_26.pkl [1. 1. 1. 2. 4. 2. 1. 1. 5. 1. 5. 1. 1. 1. 2. 1. 1. 1. 3. 3. 4. 1. 5. 1.\n",
      " 1. 4. 1. 1. 1. 5. 1. 4. 2. 4. 5. 1. 5. 1. 1. 2.]\n",
      "sub_27.pkl [1. 1. 1. 1. 1. 3. 4. 1. 1. 1. 1. 3. 1. 1. 1. 1. 1. 1. 1. 1. 1. 1. 1. 1.\n",
      " 1. 1. 5. 1. 1. 2. 1. 1. 1. 1. 1. 1. 2. 5. 1. 3.]\n",
      "sub_28.pkl [1. 1. 1. 4. 1. 1. 3. 1. 1. 1. 5. 1. 5. 4. 1. 4. 1. 1. 5. 3. 2. 1. 1. 1.\n",
      " 1. 5. 1. 4. 1. 2. 1. 1. 1. 1. 1. 5. 4. 5. 1. 1.]\n",
      "sub_29.pkl [5. 1. 5. 5. 5. 1. 3. 1. 1. 5. 1. 5. 1. 4. 1. 1. 1. 5. 1. 2. 5. 5. 1. 1.\n",
      " 1. 1. 5. 1. 4. 3. 1. 1. 3. 5. 5. 4. 1. 1. 1. 1.]\n",
      "sub_3.pkl [1. 2. 4. 1. 2. 4. 4. 2. 5. 1. 5. 5. 1. 1. 1. 1. 5. 5. 1. 1. 2. 1. 1. 1.\n",
      " 1. 4. 4. 1. 1. 2. 2. 5. 1. 1. 1. 4. 1. 1. 5. 2.]\n",
      "sub_30.pkl [5. 4. 2. 1. 5. 1. 2. 5. 3. 1. 1. 4. 2. 2. 3. 1. 5. 5. 1. 5. 5. 5. 5. 1.\n",
      " 1. 5. 5. 4. 5. 1. 3. 1. 2. 1. 4. 1. 5. 4. 1. 1.]\n",
      "sub_31.pkl [5. 1. 1. 2. 1. 1. 1. 1. 1. 3. 4. 1. 1. 5. 1. 4. 1. 1. 1. 4. 5. 1. 4. 1.\n",
      " 1. 1. 1. 1. 1. 3. 3. 1. 1. 3. 5. 1. 1. 1. 1. 5.]\n",
      "sub_32.pkl [5. 2. 3. 2. 5. 1. 1. 1. 3. 1. 2. 1. 5. 1. 3. 1. 1. 3. 1. 3. 3. 5. 1. 1.\n",
      " 1. 1. 2. 5. 1. 5. 1. 2. 1. 1. 2. 2. 5. 5. 2. 5.]\n",
      "sub_4.pkl [2. 3. 1. 1. 1. 1. 5. 1. 1. 1. 1. 1. 1. 4. 1. 2. 1. 1. 1. 1. 1. 1. 1. 1.\n",
      " 5. 2. 5. 1. 1. 1. 1. 1. 1. 1. 1. 1. 1. 1. 1. 1.]\n",
      "sub_5.pkl [2. 2. 2. 2. 2. 1. 2. 1. 2. 1. 3. 1. 1. 2. 3. 2. 3. 2. 3. 1. 2. 1. 2. 1.\n",
      " 3. 1. 4. 2. 3. 1. 1. 2. 1. 1. 2. 1. 1. 1. 1. 2.]\n",
      "sub_6.pkl [1. 5. 1. 1. 5. 1. 5. 5. 1. 1. 3. 3. 1. 1. 1. 5. 1. 1. 2. 5. 1. 1. 2. 1.\n",
      " 1. 5. 1. 1. 5. 5. 3. 5. 4. 1. 4. 1. 5. 5. 3. 1.]\n",
      "sub_7.pkl [5. 5. 5. 5. 5. 5. 5. 1. 1. 1. 1. 3. 5. 5. 5. 5. 5. 5. 1. 1. 5. 5. 5. 5.\n",
      " 5. 5. 1. 2. 5. 5. 5. 2. 1. 5. 2. 5. 1. 5. 2. 1.]\n",
      "sub_8.pkl [2. 1. 3. 5. 4. 1. 1. 2. 1. 5. 4. 2. 1. 1. 1. 5. 1. 1. 3. 4. 1. 1. 1. 1.\n",
      " 2. 1. 3. 1. 3. 1. 3. 5. 1. 1. 1. 2. 2. 5. 3. 1.]\n",
      "sub_9.pkl [2. 4. 1. 2. 5. 2. 1. 5. 3. 1. 3. 3. 1. 1. 1. 1. 4. 4. 1. 1. 4. 2. 1. 1.\n",
      " 5. 1. 4. 1. 2. 1. 1. 2. 2. 1. 2. 2. 4. 2. 5. 2.]\n"
     ]
    }
   ],
   "source": [
    "l2=os.listdir('familiarity_pkl/')\n",
    "for i in l2:\n",
    "    a=pickle.load(open('familiarity_pkl/'+i,'rb'))\n",
    "    print(i,a)"
   ]
  },
  {
   "cell_type": "code",
   "execution_count": null,
   "metadata": {},
   "outputs": [],
   "source": []
  },
  {
   "cell_type": "code",
   "execution_count": 16,
   "metadata": {
    "ExecuteTime": {
     "end_time": "2019-11-06T14:34:21.699806Z",
     "start_time": "2019-11-06T14:34:21.694905Z"
    }
   },
   "outputs": [
    {
     "data": {
      "text/plain": [
       "29"
      ]
     },
     "execution_count": 16,
     "metadata": {},
     "output_type": "execute_result"
    }
   ],
   "source": [
    "len(l2)"
   ]
  },
  {
   "cell_type": "code",
   "execution_count": 17,
   "metadata": {
    "ExecuteTime": {
     "end_time": "2019-11-06T14:39:57.982909Z",
     "start_time": "2019-11-06T14:39:57.976927Z"
    }
   },
   "outputs": [
    {
     "data": {
      "text/plain": [
       "(2400,)"
      ]
     },
     "execution_count": 17,
     "metadata": {},
     "output_type": "execute_result"
    }
   ],
   "source": [
    "a=pickle.load(open('deap_shuffled_data/no_familiarity/s01.mat_win_128_labels.pkl','rb'))\n",
    "a.shape"
   ]
  },
  {
   "cell_type": "code",
   "execution_count": 18,
   "metadata": {
    "ExecuteTime": {
     "end_time": "2019-11-06T14:39:59.105832Z",
     "start_time": "2019-11-06T14:39:59.098851Z"
    }
   },
   "outputs": [
    {
     "data": {
      "text/plain": [
       "(1620, 780)"
      ]
     },
     "execution_count": 18,
     "metadata": {},
     "output_type": "execute_result"
    }
   ],
   "source": [
    "c1=0\n",
    "c0=0\n",
    "for i in a :\n",
    "    if(i==1):\n",
    "        c1+=1\n",
    "    elif(i==0):\n",
    "        c0+=1\n",
    "c0,c1"
   ]
  },
  {
   "cell_type": "code",
   "execution_count": 19,
   "metadata": {
    "ExecuteTime": {
     "end_time": "2019-11-06T14:40:03.223818Z",
     "start_time": "2019-11-06T14:40:03.213846Z"
    }
   },
   "outputs": [
    {
     "name": "stdout",
     "output_type": "stream",
     "text": [
      "(2400,)\n"
     ]
    },
    {
     "data": {
      "text/plain": [
       "(1620, 780)"
      ]
     },
     "execution_count": 19,
     "metadata": {},
     "output_type": "execute_result"
    }
   ],
   "source": [
    "a=pickle.load(open('deap_shuffled_data/no_familiarity/s03.mat_win_128_labels.pkl','rb'))\n",
    "print(a.shape)\n",
    "c1=0\n",
    "c0=0\n",
    "for i in a :\n",
    "    if(i==1):\n",
    "        c1+=1\n",
    "    elif(i==0):\n",
    "        c0+=1\n",
    "c0,c1"
   ]
  },
  {
   "cell_type": "code",
   "execution_count": 20,
   "metadata": {
    "ExecuteTime": {
     "end_time": "2019-11-06T14:40:06.588817Z",
     "start_time": "2019-11-06T14:40:06.578844Z"
    }
   },
   "outputs": [
    {
     "name": "stdout",
     "output_type": "stream",
     "text": [
      "(2400,)\n"
     ]
    },
    {
     "data": {
      "text/plain": [
       "(2160, 240)"
      ]
     },
     "execution_count": 20,
     "metadata": {},
     "output_type": "execute_result"
    }
   ],
   "source": [
    "a=pickle.load(open('deap_shuffled_data/no_familiarity/s04.mat_win_128_labels.pkl','rb'))\n",
    "print(a.shape)\n",
    "c1=0\n",
    "c0=0\n",
    "for i in a :\n",
    "    if(i==1):\n",
    "        c1+=1\n",
    "    elif(i==0):\n",
    "        c0+=1\n",
    "c0,c1"
   ]
  },
  {
   "cell_type": "code",
   "execution_count": 21,
   "metadata": {
    "ExecuteTime": {
     "end_time": "2019-11-06T14:40:13.687830Z",
     "start_time": "2019-11-06T14:40:13.671875Z"
    }
   },
   "outputs": [
    {
     "name": "stdout",
     "output_type": "stream",
     "text": [
      "(2400,)\n"
     ]
    },
    {
     "data": {
      "text/plain": [
       "(1800, 600)"
      ]
     },
     "execution_count": 21,
     "metadata": {},
     "output_type": "execute_result"
    }
   ],
   "source": [
    "a=pickle.load(open('deap_shuffled_data/no_familiarity/s11.mat_win_128_labels.pkl','rb'))\n",
    "print(a.shape)\n",
    "c1=0\n",
    "c0=0\n",
    "for i in a :\n",
    "    if(i==1):\n",
    "        c1+=1\n",
    "    elif(i==0):\n",
    "        c0+=1\n",
    "c0,c1"
   ]
  },
  {
   "cell_type": "code",
   "execution_count": 22,
   "metadata": {
    "ExecuteTime": {
     "end_time": "2019-11-06T14:44:28.133329Z",
     "start_time": "2019-11-06T14:44:28.117371Z"
    }
   },
   "outputs": [
    {
     "name": "stdout",
     "output_type": "stream",
     "text": [
      "(2400,)\n"
     ]
    },
    {
     "data": {
      "text/plain": [
       "(1320, 1080)"
      ]
     },
     "execution_count": 22,
     "metadata": {},
     "output_type": "execute_result"
    }
   ],
   "source": [
    "a=pickle.load(open('deap_shuffled_data/no_familiarity/s30.mat_win_128_labels.pkl','rb'))\n",
    "print(a.shape)\n",
    "c1=0\n",
    "c0=0\n",
    "for i in a :\n",
    "    if(i==1):\n",
    "        c1+=1\n",
    "    elif(i==0):\n",
    "        c0+=1\n",
    "c0,c1"
   ]
  },
  {
   "cell_type": "code",
   "execution_count": 23,
   "metadata": {
    "ExecuteTime": {
     "end_time": "2019-11-06T14:44:34.901227Z",
     "start_time": "2019-11-06T14:44:34.887264Z"
    }
   },
   "outputs": [
    {
     "name": "stdout",
     "output_type": "stream",
     "text": [
      "(2400,)\n"
     ]
    },
    {
     "data": {
      "text/plain": [
       "(1860, 540)"
      ]
     },
     "execution_count": 23,
     "metadata": {},
     "output_type": "execute_result"
    }
   ],
   "source": [
    "a=pickle.load(open('deap_shuffled_data/no_familiarity/s32.mat_win_128_labels.pkl','rb'))\n",
    "print(a.shape)\n",
    "c1=0\n",
    "c0=0\n",
    "for i in a :\n",
    "    if(i==1):\n",
    "        c1+=1\n",
    "    elif(i==0):\n",
    "        c0+=1\n",
    "c0,c1"
   ]
  },
  {
   "cell_type": "code",
   "execution_count": null,
   "metadata": {},
   "outputs": [],
   "source": []
  },
  {
   "cell_type": "code",
   "execution_count": 24,
   "metadata": {
    "ExecuteTime": {
     "end_time": "2019-11-06T14:44:46.792638Z",
     "start_time": "2019-11-06T14:44:46.782664Z"
    }
   },
   "outputs": [
    {
     "data": {
      "text/plain": [
       "(2400,)"
      ]
     },
     "execution_count": 24,
     "metadata": {},
     "output_type": "execute_result"
    }
   ],
   "source": [
    "a=pickle.load(open('deap_shuffled_data/yes_familiarity/s01.mat_win_128_labels.pkl','rb'))\n",
    "a.shape"
   ]
  },
  {
   "cell_type": "code",
   "execution_count": 25,
   "metadata": {
    "ExecuteTime": {
     "end_time": "2019-11-06T14:44:47.960514Z",
     "start_time": "2019-11-06T14:44:47.951539Z"
    }
   },
   "outputs": [
    {
     "data": {
      "text/plain": [
       "(1620, 780)"
      ]
     },
     "execution_count": 25,
     "metadata": {},
     "output_type": "execute_result"
    }
   ],
   "source": [
    "c1=0\n",
    "c0=0\n",
    "for i in a :\n",
    "    if(i==1):\n",
    "        c1+=1\n",
    "    elif(i==0):\n",
    "        c0+=1\n",
    "c0,c1"
   ]
  },
  {
   "cell_type": "code",
   "execution_count": 26,
   "metadata": {
    "ExecuteTime": {
     "end_time": "2019-11-06T14:45:02.468995Z",
     "start_time": "2019-11-06T14:45:02.455032Z"
    }
   },
   "outputs": [
    {
     "name": "stdout",
     "output_type": "stream",
     "text": [
      "(2400,)\n"
     ]
    },
    {
     "data": {
      "text/plain": [
       "(1620, 780)"
      ]
     },
     "execution_count": 26,
     "metadata": {},
     "output_type": "execute_result"
    }
   ],
   "source": [
    "a=pickle.load(open('deap_shuffled_data/yes_familiarity/s03.mat_win_128_labels.pkl','rb'))\n",
    "print(a.shape)\n",
    "c1=0\n",
    "c0=0\n",
    "for i in a :\n",
    "    if(i==1):\n",
    "        c1+=1\n",
    "    elif(i==0):\n",
    "        c0+=1\n",
    "c0,c1"
   ]
  },
  {
   "cell_type": "code",
   "execution_count": 27,
   "metadata": {
    "ExecuteTime": {
     "end_time": "2019-11-06T14:46:00.972921Z",
     "start_time": "2019-11-06T14:46:00.960976Z"
    }
   },
   "outputs": [
    {
     "name": "stdout",
     "output_type": "stream",
     "text": [
      "(2400,)\n"
     ]
    },
    {
     "data": {
      "text/plain": [
       "(2160, 240)"
      ]
     },
     "execution_count": 27,
     "metadata": {},
     "output_type": "execute_result"
    }
   ],
   "source": [
    "a=pickle.load(open('deap_shuffled_data/yes_familiarity/s04.mat_win_128_labels.pkl','rb'))\n",
    "print(a.shape)\n",
    "c1=0\n",
    "c0=0\n",
    "for i in a :\n",
    "    if(i==1):\n",
    "        c1+=1\n",
    "    elif(i==0):\n",
    "        c0+=1\n",
    "c0,c1"
   ]
  },
  {
   "cell_type": "code",
   "execution_count": 28,
   "metadata": {
    "ExecuteTime": {
     "end_time": "2019-11-06T14:53:42.535777Z",
     "start_time": "2019-11-06T14:53:42.527799Z"
    }
   },
   "outputs": [
    {
     "name": "stdout",
     "output_type": "stream",
     "text": [
      "(2400,)\n"
     ]
    },
    {
     "data": {
      "text/plain": [
       "(1800, 600)"
      ]
     },
     "execution_count": 28,
     "metadata": {},
     "output_type": "execute_result"
    }
   ],
   "source": [
    "a=pickle.load(open('deap_shuffled_data/yes_familiarity/s11.mat_win_128_labels.pkl','rb'))\n",
    "print(a.shape)\n",
    "c1=0\n",
    "c0=0\n",
    "for i in a :\n",
    "    if(i==1):\n",
    "        c1+=1\n",
    "    elif(i==0):\n",
    "        c0+=1\n",
    "c0,c1"
   ]
  },
  {
   "cell_type": "code",
   "execution_count": 29,
   "metadata": {
    "ExecuteTime": {
     "end_time": "2019-11-06T14:53:45.070685Z",
     "start_time": "2019-11-06T14:53:45.062695Z"
    }
   },
   "outputs": [
    {
     "name": "stdout",
     "output_type": "stream",
     "text": [
      "(2400,)\n"
     ]
    },
    {
     "data": {
      "text/plain": [
       "(1320, 1080)"
      ]
     },
     "execution_count": 29,
     "metadata": {},
     "output_type": "execute_result"
    }
   ],
   "source": [
    "a=pickle.load(open('deap_shuffled_data/yes_familiarity/s30.mat_win_128_labels.pkl','rb'))\n",
    "print(a.shape)\n",
    "c1=0\n",
    "c0=0\n",
    "for i in a :\n",
    "    if(i==1):\n",
    "        c1+=1\n",
    "    elif(i==0):\n",
    "        c0+=1\n",
    "c0,c1"
   ]
  },
  {
   "cell_type": "code",
   "execution_count": 30,
   "metadata": {
    "ExecuteTime": {
     "end_time": "2019-11-06T14:53:48.334126Z",
     "start_time": "2019-11-06T14:53:48.326146Z"
    }
   },
   "outputs": [
    {
     "name": "stdout",
     "output_type": "stream",
     "text": [
      "(2400,)\n"
     ]
    },
    {
     "data": {
      "text/plain": [
       "(1860, 540)"
      ]
     },
     "execution_count": 30,
     "metadata": {},
     "output_type": "execute_result"
    }
   ],
   "source": [
    "a=pickle.load(open('deap_shuffled_data/yes_familiarity/s32.mat_win_128_labels.pkl','rb'))\n",
    "print(a.shape)\n",
    "c1=0\n",
    "c0=0\n",
    "for i in a :\n",
    "    if(i==1):\n",
    "        c1+=1\n",
    "    elif(i==0):\n",
    "        c0+=1\n",
    "c0,c1"
   ]
  },
  {
   "cell_type": "code",
   "execution_count": null,
   "metadata": {},
   "outputs": [],
   "source": []
  },
  {
   "cell_type": "code",
   "execution_count": 21,
   "metadata": {},
   "outputs": [
    {
     "name": "stdout",
     "output_type": "stream",
     "text": [
      "1 (40,) [4. 4. 4. 4. 1. 1. 3. 1. 1. 1. 2. 2. 1. 1. 1. 4. 1. 1. 4. 4. 1. 2. 2. 5.\n",
      " 2. 4. 1. 3. 2. 1. 4. 5. 1. 1. 4. 2. 2. 1. 5. 3.]\n",
      "3 (40,) [1. 2. 4. 1. 2. 4. 4. 2. 5. 1. 5. 5. 1. 1. 1. 1. 5. 5. 1. 1. 2. 1. 1. 1.\n",
      " 1. 4. 4. 1. 1. 2. 2. 5. 1. 1. 1. 4. 1. 1. 5. 2.]\n",
      "4 (40,) [2. 3. 1. 1. 1. 1. 5. 1. 1. 1. 1. 1. 1. 4. 1. 2. 1. 1. 1. 1. 1. 1. 1. 1.\n",
      " 5. 2. 5. 1. 1. 1. 1. 1. 1. 1. 1. 1. 1. 1. 1. 1.]\n",
      "5 (40,) [2. 2. 2. 2. 2. 1. 2. 1. 2. 1. 3. 1. 1. 2. 3. 2. 3. 2. 3. 1. 2. 1. 2. 1.\n",
      " 3. 1. 4. 2. 3. 1. 1. 2. 1. 1. 2. 1. 1. 1. 1. 2.]\n",
      "6 (40,) [1. 5. 1. 1. 5. 1. 5. 5. 1. 1. 3. 3. 1. 1. 1. 5. 1. 1. 2. 5. 1. 1. 2. 1.\n",
      " 1. 5. 1. 1. 5. 5. 3. 5. 4. 1. 4. 1. 5. 5. 3. 1.]\n",
      "7 (40,) [5. 5. 5. 5. 5. 5. 5. 1. 1. 1. 1. 3. 5. 5. 5. 5. 5. 5. 1. 1. 5. 5. 5. 5.\n",
      " 5. 5. 1. 2. 5. 5. 5. 2. 1. 5. 2. 5. 1. 5. 2. 1.]\n",
      "8 (40,) [2. 1. 3. 5. 4. 1. 1. 2. 1. 5. 4. 2. 1. 1. 1. 5. 1. 1. 3. 4. 1. 1. 1. 1.\n",
      " 2. 1. 3. 1. 3. 1. 3. 5. 1. 1. 1. 2. 2. 5. 3. 1.]\n",
      "9 (40,) [2. 4. 1. 2. 5. 2. 1. 5. 3. 1. 3. 3. 1. 1. 1. 1. 4. 4. 1. 1. 4. 2. 1. 1.\n",
      " 5. 1. 4. 1. 2. 1. 1. 2. 2. 1. 2. 2. 4. 2. 5. 2.]\n",
      "10 (40,) [4. 4. 4. 2. 1. 5. 1. 1. 5. 1. 1. 1. 1. 1. 1. 1. 5. 5. 4. 1. 1. 1. 4. 4.\n",
      " 1. 3. 4. 3. 1. 4. 3. 4. 2. 1. 4. 5. 1. 2. 2. 1.]\n",
      "11 (40,) [1. 3. 5. 1. 1. 2. 1. 1. 5. 5. 5. 3. 1. 2. 1. 1. 1. 1. 1. 2. 1. 4. 1. 5.\n",
      " 1. 5. 5. 1. 1. 2. 2. 1. 2. 1. 1. 5. 2. 5. 1. 1.]\n",
      "12 (40,) [1. 4. 2. 3. 2. 2. 4. 1. 5. 1. 4. 5. 2. 1. 1. 3. 5. 2. 2. 2. 3. 1. 1. 1.\n",
      " 3. 3. 3. 1. 1. 3. 3. 2. 4. 2. 3. 4. 4. 1. 1. 1.]\n",
      "13 (40,) [1. 5. 1. 3. 5. 1. 3. 4. 2. 4. 1. 3. 1. 1. 1. 4. 1. 4. 4. 2. 1. 5. 1. 2.\n",
      " 3. 1. 5. 2. 2. 5. 4. 5. 1. 5. 5. 5. 4. 2. 1. 2.]\n",
      "14 (40,) [4. 1. 1. 5. 2. 1. 4. 4. 1. 1. 4. 1. 2. 5. 4. 1. 3. 1. 5. 2. 1. 5. 3. 4.\n",
      " 1. 1. 1. 1. 1. 1. 1. 5. 5. 1. 1. 1. 1. 2. 2. 4.]\n",
      "16 (40,) [2. 5. 5. 1. 1. 4. 1. 1. 1. 4. 1. 3. 1. 1. 1. 1. 5. 1. 5. 1. 1. 3. 1. 3.\n",
      " 1. 3. 3. 1. 1. 1. 1. 2. 1. 2. 2. 1. 1. 3. 1. 1.]\n",
      "17 (40,) [5. 3. 1. 2. 1. 4. 2. 4. 1. 2. 1. 5. 1. 1. 4. 4. 1. 1. 2. 3. 1. 2. 2. 2.\n",
      " 5. 5. 2. 1. 4. 1. 2. 3. 1. 1. 3. 3. 1. 1. 2. 1.]\n",
      "18 (40,) [1. 5. 1. 5. 1. 5. 1. 1. 1. 1. 5. 1. 1. 4. 1. 1. 4. 4. 3. 1. 3. 4. 5. 1.\n",
      " 4. 2. 4. 1. 2. 1. 3. 2. 1. 1. 1. 2. 2. 1. 2. 1.]\n",
      "19 (40,) [1. 2. 1. 5. 1. 5. 1. 1. 5. 3. 1. 5. 2. 1. 5. 4. 2. 5. 5. 1. 4. 1. 1. 5.\n",
      " 1. 1. 5. 1. 4. 5. 4. 4. 1. 3. 1. 1. 5. 5. 1. 5.]\n",
      "20 (40,) [1. 5. 5. 4. 5. 1. 1. 1. 1. 1. 1. 4. 5. 1. 4. 5. 1. 1. 1. 1. 2. 4. 5. 5.\n",
      " 2. 2. 3. 3. 1. 3. 4. 1. 5. 1. 3. 1. 5. 4. 1. 2.]\n",
      "21 (40,) [4. 5. 3. 2. 4. 5. 1. 2. 1. 2. 4. 2. 2. 3. 3. 1. 5. 4. 1. 5. 2. 2. 5. 1.\n",
      " 4. 1. 3. 5. 4. 3. 5. 2. 5. 5. 2. 4. 3. 2. 4. 3.]\n",
      "22 (40,) [5. 1. 1. 1. 3. 1. 1. 3. 1. 1. 2. 1. 1. 1. 1. 1. 5. 1. 1. 5. 1. 1. 5. 5.\n",
      " 1. 5. 3. 5. 2. 4. 2. 3. 1. 3. 5. 1. 1. 2. 1. 1.]\n",
      "24 (40,) [5. 2. 3. 1. 1. 3. 5. 5. 2. 3. 2. 1. 1. 2. 4. 5. 5. 2. 1. 3. 3. 3. 2. 3.\n",
      " 1. 4. 1. 4. 1. 1. 1. 1. 1. 5. 1. 1. 3. 1. 3. 5.]\n",
      "25 (40,) [1. 2. 3. 1. 3. 1. 2. 1. 1. 1. 1. 1. 1. 1. 1. 1. 4. 2. 2. 1. 1. 1. 1. 1.\n",
      " 4. 1. 1. 1. 1. 1. 1. 1. 1. 4. 2. 1. 1. 1. 1. 1.]\n",
      "26 (40,) [1. 1. 1. 2. 4. 2. 1. 1. 5. 1. 5. 1. 1. 1. 2. 1. 1. 1. 3. 3. 4. 1. 5. 1.\n",
      " 1. 4. 1. 1. 1. 5. 1. 4. 2. 4. 5. 1. 5. 1. 1. 2.]\n",
      "27 (40,) [1. 1. 1. 1. 1. 3. 4. 1. 1. 1. 1. 3. 1. 1. 1. 1. 1. 1. 1. 1. 1. 1. 1. 1.\n",
      " 1. 1. 5. 1. 1. 2. 1. 1. 1. 1. 1. 1. 2. 5. 1. 3.]\n",
      "28 (40,) [1. 1. 1. 4. 1. 1. 3. 1. 1. 1. 5. 1. 5. 4. 1. 4. 1. 1. 5. 3. 2. 1. 1. 1.\n",
      " 1. 5. 1. 4. 1. 2. 1. 1. 1. 1. 1. 5. 4. 5. 1. 1.]\n",
      "29 (40,) [5. 1. 5. 5. 5. 1. 3. 1. 1. 5. 1. 5. 1. 4. 1. 1. 1. 5. 1. 2. 5. 5. 1. 1.\n",
      " 1. 1. 5. 1. 4. 3. 1. 1. 3. 5. 5. 4. 1. 1. 1. 1.]\n",
      "30 (40,) [5. 4. 2. 1. 5. 1. 2. 5. 3. 1. 1. 4. 2. 2. 3. 1. 5. 5. 1. 5. 5. 5. 5. 1.\n",
      " 1. 5. 5. 4. 5. 1. 3. 1. 2. 1. 4. 1. 5. 4. 1. 1.]\n",
      "31 (40,) [5. 1. 1. 2. 1. 1. 1. 1. 1. 3. 4. 1. 1. 5. 1. 4. 1. 1. 1. 4. 5. 1. 4. 1.\n",
      " 1. 1. 1. 1. 1. 3. 3. 1. 1. 3. 5. 1. 1. 1. 1. 5.]\n",
      "32 (40,) [5. 2. 3. 2. 5. 1. 1. 1. 3. 1. 2. 1. 5. 1. 3. 1. 1. 3. 1. 3. 3. 5. 1. 1.\n",
      " 1. 1. 2. 5. 1. 5. 1. 2. 1. 1. 2. 2. 5. 5. 2. 5.]\n",
      "1 (40,) [4. 4. 4. 4. 1. 1. 3. 1. 1. 1. 2. 2. 1. 1. 1. 4. 1. 1. 4. 4. 1. 2. 2. 5.\n",
      " 2. 4. 1. 3. 2. 1. 4. 5. 1. 1. 4. 2. 2. 1. 5. 3.]\n",
      "3 (40,) [1. 2. 4. 1. 2. 4. 4. 2. 5. 1. 5. 5. 1. 1. 1. 1. 5. 5. 1. 1. 2. 1. 1. 1.\n",
      " 1. 4. 4. 1. 1. 2. 2. 5. 1. 1. 1. 4. 1. 1. 5. 2.]\n",
      "4 (40,) [2. 3. 1. 1. 1. 1. 5. 1. 1. 1. 1. 1. 1. 4. 1. 2. 1. 1. 1. 1. 1. 1. 1. 1.\n",
      " 5. 2. 5. 1. 1. 1. 1. 1. 1. 1. 1. 1. 1. 1. 1. 1.]\n",
      "5 (40,) [2. 2. 2. 2. 2. 1. 2. 1. 2. 1. 3. 1. 1. 2. 3. 2. 3. 2. 3. 1. 2. 1. 2. 1.\n",
      " 3. 1. 4. 2. 3. 1. 1. 2. 1. 1. 2. 1. 1. 1. 1. 2.]\n",
      "6 (40,) [1. 5. 1. 1. 5. 1. 5. 5. 1. 1. 3. 3. 1. 1. 1. 5. 1. 1. 2. 5. 1. 1. 2. 1.\n",
      " 1. 5. 1. 1. 5. 5. 3. 5. 4. 1. 4. 1. 5. 5. 3. 1.]\n",
      "7 (40,) [5. 5. 5. 5. 5. 5. 5. 1. 1. 1. 1. 3. 5. 5. 5. 5. 5. 5. 1. 1. 5. 5. 5. 5.\n",
      " 5. 5. 1. 2. 5. 5. 5. 2. 1. 5. 2. 5. 1. 5. 2. 1.]\n",
      "8 (40,) [2. 1. 3. 5. 4. 1. 1. 2. 1. 5. 4. 2. 1. 1. 1. 5. 1. 1. 3. 4. 1. 1. 1. 1.\n",
      " 2. 1. 3. 1. 3. 1. 3. 5. 1. 1. 1. 2. 2. 5. 3. 1.]\n",
      "9 (40,) [2. 4. 1. 2. 5. 2. 1. 5. 3. 1. 3. 3. 1. 1. 1. 1. 4. 4. 1. 1. 4. 2. 1. 1.\n",
      " 5. 1. 4. 1. 2. 1. 1. 2. 2. 1. 2. 2. 4. 2. 5. 2.]\n",
      "10 (40,) [4. 4. 4. 2. 1. 5. 1. 1. 5. 1. 1. 1. 1. 1. 1. 1. 5. 5. 4. 1. 1. 1. 4. 4.\n",
      " 1. 3. 4. 3. 1. 4. 3. 4. 2. 1. 4. 5. 1. 2. 2. 1.]\n",
      "11 (40,) [1. 3. 5. 1. 1. 2. 1. 1. 5. 5. 5. 3. 1. 2. 1. 1. 1. 1. 1. 2. 1. 4. 1. 5.\n",
      " 1. 5. 5. 1. 1. 2. 2. 1. 2. 1. 1. 5. 2. 5. 1. 1.]\n",
      "12 (40,) [1. 4. 2. 3. 2. 2. 4. 1. 5. 1. 4. 5. 2. 1. 1. 3. 5. 2. 2. 2. 3. 1. 1. 1.\n",
      " 3. 3. 3. 1. 1. 3. 3. 2. 4. 2. 3. 4. 4. 1. 1. 1.]\n",
      "13 (40,) [1. 5. 1. 3. 5. 1. 3. 4. 2. 4. 1. 3. 1. 1. 1. 4. 1. 4. 4. 2. 1. 5. 1. 2.\n",
      " 3. 1. 5. 2. 2. 5. 4. 5. 1. 5. 5. 5. 4. 2. 1. 2.]\n",
      "14 (40,) [4. 1. 1. 5. 2. 1. 4. 4. 1. 1. 4. 1. 2. 5. 4. 1. 3. 1. 5. 2. 1. 5. 3. 4.\n",
      " 1. 1. 1. 1. 1. 1. 1. 5. 5. 1. 1. 1. 1. 2. 2. 4.]\n",
      "16 (40,) [2. 5. 5. 1. 1. 4. 1. 1. 1. 4. 1. 3. 1. 1. 1. 1. 5. 1. 5. 1. 1. 3. 1. 3.\n",
      " 1. 3. 3. 1. 1. 1. 1. 2. 1. 2. 2. 1. 1. 3. 1. 1.]\n",
      "17 (40,) [5. 3. 1. 2. 1. 4. 2. 4. 1. 2. 1. 5. 1. 1. 4. 4. 1. 1. 2. 3. 1. 2. 2. 2.\n",
      " 5. 5. 2. 1. 4. 1. 2. 3. 1. 1. 3. 3. 1. 1. 2. 1.]\n",
      "18 (40,) [1. 5. 1. 5. 1. 5. 1. 1. 1. 1. 5. 1. 1. 4. 1. 1. 4. 4. 3. 1. 3. 4. 5. 1.\n",
      " 4. 2. 4. 1. 2. 1. 3. 2. 1. 1. 1. 2. 2. 1. 2. 1.]\n",
      "19 (40,) [1. 2. 1. 5. 1. 5. 1. 1. 5. 3. 1. 5. 2. 1. 5. 4. 2. 5. 5. 1. 4. 1. 1. 5.\n",
      " 1. 1. 5. 1. 4. 5. 4. 4. 1. 3. 1. 1. 5. 5. 1. 5.]\n",
      "20 (40,) [1. 5. 5. 4. 5. 1. 1. 1. 1. 1. 1. 4. 5. 1. 4. 5. 1. 1. 1. 1. 2. 4. 5. 5.\n",
      " 2. 2. 3. 3. 1. 3. 4. 1. 5. 1. 3. 1. 5. 4. 1. 2.]\n",
      "21 (40,) [4. 5. 3. 2. 4. 5. 1. 2. 1. 2. 4. 2. 2. 3. 3. 1. 5. 4. 1. 5. 2. 2. 5. 1.\n",
      " 4. 1. 3. 5. 4. 3. 5. 2. 5. 5. 2. 4. 3. 2. 4. 3.]\n",
      "22 (40,) [5. 1. 1. 1. 3. 1. 1. 3. 1. 1. 2. 1. 1. 1. 1. 1. 5. 1. 1. 5. 1. 1. 5. 5.\n",
      " 1. 5. 3. 5. 2. 4. 2. 3. 1. 3. 5. 1. 1. 2. 1. 1.]\n",
      "24 (40,) [5. 2. 3. 1. 1. 3. 5. 5. 2. 3. 2. 1. 1. 2. 4. 5. 5. 2. 1. 3. 3. 3. 2. 3.\n",
      " 1. 4. 1. 4. 1. 1. 1. 1. 1. 5. 1. 1. 3. 1. 3. 5.]\n",
      "25 (40,) [1. 2. 3. 1. 3. 1. 2. 1. 1. 1. 1. 1. 1. 1. 1. 1. 4. 2. 2. 1. 1. 1. 1. 1.\n",
      " 4. 1. 1. 1. 1. 1. 1. 1. 1. 4. 2. 1. 1. 1. 1. 1.]\n",
      "26 (40,) [1. 1. 1. 2. 4. 2. 1. 1. 5. 1. 5. 1. 1. 1. 2. 1. 1. 1. 3. 3. 4. 1. 5. 1.\n",
      " 1. 4. 1. 1. 1. 5. 1. 4. 2. 4. 5. 1. 5. 1. 1. 2.]\n",
      "27 (40,) [1. 1. 1. 1. 1. 3. 4. 1. 1. 1. 1. 3. 1. 1. 1. 1. 1. 1. 1. 1. 1. 1. 1. 1.\n",
      " 1. 1. 5. 1. 1. 2. 1. 1. 1. 1. 1. 1. 2. 5. 1. 3.]\n",
      "28 (40,) [1. 1. 1. 4. 1. 1. 3. 1. 1. 1. 5. 1. 5. 4. 1. 4. 1. 1. 5. 3. 2. 1. 1. 1.\n",
      " 1. 5. 1. 4. 1. 2. 1. 1. 1. 1. 1. 5. 4. 5. 1. 1.]\n",
      "29 (40,) [5. 1. 5. 5. 5. 1. 3. 1. 1. 5. 1. 5. 1. 4. 1. 1. 1. 5. 1. 2. 5. 5. 1. 1.\n",
      " 1. 1. 5. 1. 4. 3. 1. 1. 3. 5. 5. 4. 1. 1. 1. 1.]\n",
      "30 (40,) [5. 4. 2. 1. 5. 1. 2. 5. 3. 1. 1. 4. 2. 2. 3. 1. 5. 5. 1. 5. 5. 5. 5. 1.\n",
      " 1. 5. 5. 4. 5. 1. 3. 1. 2. 1. 4. 1. 5. 4. 1. 1.]\n",
      "31 (40,) [5. 1. 1. 2. 1. 1. 1. 1. 1. 3. 4. 1. 1. 5. 1. 4. 1. 1. 1. 4. 5. 1. 4. 1.\n",
      " 1. 1. 1. 1. 1. 3. 3. 1. 1. 3. 5. 1. 1. 1. 1. 5.]\n",
      "32 (40,) [5. 2. 3. 2. 5. 1. 1. 1. 3. 1. 2. 1. 5. 1. 3. 1. 1. 3. 1. 3. 3. 5. 1. 1.\n",
      " 1. 1. 2. 5. 1. 5. 1. 2. 1. 1. 2. 2. 5. 5. 2. 5.]\n"
     ]
    }
   ],
   "source": [
    "label_classes_list=['familiarity']\n",
    "suffixes_list=['no','yes']\n",
    "for label_class in label_classes_list:\n",
    "    for suffix in suffixes_list:\n",
    "        dataset_dir='deap_matlab_files/'\n",
    "        record_list=[i for i in os.listdir(dataset_dir) if os.path.isfile(os.path.join(dataset_dir,i))]\n",
    "        #         record_list\n",
    "        output_dir=   \"./deap_shuffled_data2/\"\n",
    "        output_dir = output_dir+suffix+\"_\"+label_class+\"/\"\n",
    "        if os.path.isdir(output_dir)==False:\n",
    "                os.makedirs(output_dir)\n",
    "\n",
    "        for i in record_list:\n",
    "\n",
    "            file = os.path.join(dataset_dir,i)\n",
    "            snf=int(file[-6:-4])\n",
    "            pkllist=os.listdir('familiarity_pkl/')\n",
    "            if('sub_'+str(snf)+'.pkl' in pkllist):\n",
    "                fam_label=pickle.load(open('familiarity_pkl/sub_'+str(snf)+'.pkl','rb'))\n",
    "                print(snf,fam_label.shape,fam_label)\n",
    "#             shuffled_cnn_data,shuffled_rnn_data,shuffled_label,record = apply_mixup(file, window_size,label_class,suffix)"
   ]
  },
  {
   "cell_type": "code",
   "execution_count": null,
   "metadata": {},
   "outputs": [],
   "source": []
  },
  {
   "cell_type": "code",
   "execution_count": 60,
   "metadata": {},
   "outputs": [
    {
     "data": {
      "text/plain": [
       "'10'"
      ]
     },
     "execution_count": 60,
     "metadata": {},
     "output_type": "execute_result"
    }
   ],
   "source": [
    "l[0].split('_')[1]"
   ]
  },
  {
   "cell_type": "code",
   "execution_count": 64,
   "metadata": {},
   "outputs": [
    {
     "name": "stdout",
     "output_type": "stream",
     "text": [
      "(40,)\n"
     ]
    }
   ],
   "source": [
    "df=pd.read_csv('familiarity/'+l[0])\n",
    "arr=np.array(df['Familiarity'])\n",
    "print(arr.shape)\n",
    "pickle.dump(arr,open('sub0t.pkl','wb'))"
   ]
  },
  {
   "cell_type": "code",
   "execution_count": 46,
   "metadata": {},
   "outputs": [
    {
     "data": {
      "text/plain": [
       "((40,),\n",
       " array([4., 4., 4., 4., 1., 1., 3., 1., 1., 1., 2., 2., 1., 1., 1., 4., 1.,\n",
       "        1., 4., 4., 1., 2., 2., 5., 2., 4., 1., 3., 2., 1., 4., 5., 1., 1.,\n",
       "        4., 2., 2., 1., 5., 3.]))"
      ]
     },
     "execution_count": 46,
     "metadata": {},
     "output_type": "execute_result"
    }
   ],
   "source": [
    "a=pickle.load(open('sub0t.pkl','rb'))\n",
    "a.shape,a"
   ]
  },
  {
   "cell_type": "code",
   "execution_count": null,
   "metadata": {},
   "outputs": [],
   "source": []
  },
  {
   "cell_type": "code",
   "execution_count": 55,
   "metadata": {},
   "outputs": [
    {
     "name": "stdout",
     "output_type": "stream",
     "text": [
      "(40, 3)\n"
     ]
    }
   ],
   "source": [
    "dfnew=pd.DataFrame(columns=cols)\n",
    "dfnew=df[df['Participant_id']==1]\n",
    "print(dfnew.shape)"
   ]
  },
  {
   "cell_type": "code",
   "execution_count": 53,
   "metadata": {},
   "outputs": [
    {
     "data": {
      "text/plain": [
       "(40, 3)"
      ]
     },
     "execution_count": 53,
     "metadata": {},
     "output_type": "execute_result"
    }
   ],
   "source": [
    "dfnew.shape"
   ]
  },
  {
   "cell_type": "code",
   "execution_count": 54,
   "metadata": {},
   "outputs": [
    {
     "data": {
      "text/html": [
       "<div>\n",
       "<style scoped>\n",
       "    .dataframe tbody tr th:only-of-type {\n",
       "        vertical-align: middle;\n",
       "    }\n",
       "\n",
       "    .dataframe tbody tr th {\n",
       "        vertical-align: top;\n",
       "    }\n",
       "\n",
       "    .dataframe thead th {\n",
       "        text-align: right;\n",
       "    }\n",
       "</style>\n",
       "<table border=\"1\" class=\"dataframe\">\n",
       "  <thead>\n",
       "    <tr style=\"text-align: right;\">\n",
       "      <th></th>\n",
       "      <th>Participant_id</th>\n",
       "      <th>Trial</th>\n",
       "      <th>Familiarity</th>\n",
       "    </tr>\n",
       "  </thead>\n",
       "  <tbody>\n",
       "    <tr>\n",
       "      <th>0</th>\n",
       "      <td>1</td>\n",
       "      <td>1</td>\n",
       "      <td>4.0</td>\n",
       "    </tr>\n",
       "    <tr>\n",
       "      <th>1</th>\n",
       "      <td>1</td>\n",
       "      <td>2</td>\n",
       "      <td>4.0</td>\n",
       "    </tr>\n",
       "    <tr>\n",
       "      <th>2</th>\n",
       "      <td>1</td>\n",
       "      <td>3</td>\n",
       "      <td>4.0</td>\n",
       "    </tr>\n",
       "    <tr>\n",
       "      <th>3</th>\n",
       "      <td>1</td>\n",
       "      <td>4</td>\n",
       "      <td>4.0</td>\n",
       "    </tr>\n",
       "    <tr>\n",
       "      <th>4</th>\n",
       "      <td>1</td>\n",
       "      <td>5</td>\n",
       "      <td>1.0</td>\n",
       "    </tr>\n",
       "    <tr>\n",
       "      <th>5</th>\n",
       "      <td>1</td>\n",
       "      <td>6</td>\n",
       "      <td>1.0</td>\n",
       "    </tr>\n",
       "    <tr>\n",
       "      <th>6</th>\n",
       "      <td>1</td>\n",
       "      <td>7</td>\n",
       "      <td>3.0</td>\n",
       "    </tr>\n",
       "    <tr>\n",
       "      <th>7</th>\n",
       "      <td>1</td>\n",
       "      <td>8</td>\n",
       "      <td>1.0</td>\n",
       "    </tr>\n",
       "    <tr>\n",
       "      <th>8</th>\n",
       "      <td>1</td>\n",
       "      <td>9</td>\n",
       "      <td>1.0</td>\n",
       "    </tr>\n",
       "    <tr>\n",
       "      <th>9</th>\n",
       "      <td>1</td>\n",
       "      <td>10</td>\n",
       "      <td>1.0</td>\n",
       "    </tr>\n",
       "    <tr>\n",
       "      <th>10</th>\n",
       "      <td>1</td>\n",
       "      <td>11</td>\n",
       "      <td>2.0</td>\n",
       "    </tr>\n",
       "    <tr>\n",
       "      <th>11</th>\n",
       "      <td>1</td>\n",
       "      <td>12</td>\n",
       "      <td>2.0</td>\n",
       "    </tr>\n",
       "    <tr>\n",
       "      <th>12</th>\n",
       "      <td>1</td>\n",
       "      <td>13</td>\n",
       "      <td>1.0</td>\n",
       "    </tr>\n",
       "    <tr>\n",
       "      <th>13</th>\n",
       "      <td>1</td>\n",
       "      <td>14</td>\n",
       "      <td>1.0</td>\n",
       "    </tr>\n",
       "    <tr>\n",
       "      <th>14</th>\n",
       "      <td>1</td>\n",
       "      <td>15</td>\n",
       "      <td>1.0</td>\n",
       "    </tr>\n",
       "    <tr>\n",
       "      <th>15</th>\n",
       "      <td>1</td>\n",
       "      <td>16</td>\n",
       "      <td>4.0</td>\n",
       "    </tr>\n",
       "    <tr>\n",
       "      <th>16</th>\n",
       "      <td>1</td>\n",
       "      <td>17</td>\n",
       "      <td>1.0</td>\n",
       "    </tr>\n",
       "    <tr>\n",
       "      <th>17</th>\n",
       "      <td>1</td>\n",
       "      <td>18</td>\n",
       "      <td>1.0</td>\n",
       "    </tr>\n",
       "    <tr>\n",
       "      <th>18</th>\n",
       "      <td>1</td>\n",
       "      <td>19</td>\n",
       "      <td>4.0</td>\n",
       "    </tr>\n",
       "    <tr>\n",
       "      <th>19</th>\n",
       "      <td>1</td>\n",
       "      <td>20</td>\n",
       "      <td>4.0</td>\n",
       "    </tr>\n",
       "    <tr>\n",
       "      <th>20</th>\n",
       "      <td>1</td>\n",
       "      <td>21</td>\n",
       "      <td>1.0</td>\n",
       "    </tr>\n",
       "    <tr>\n",
       "      <th>21</th>\n",
       "      <td>1</td>\n",
       "      <td>22</td>\n",
       "      <td>2.0</td>\n",
       "    </tr>\n",
       "    <tr>\n",
       "      <th>22</th>\n",
       "      <td>1</td>\n",
       "      <td>23</td>\n",
       "      <td>2.0</td>\n",
       "    </tr>\n",
       "    <tr>\n",
       "      <th>23</th>\n",
       "      <td>1</td>\n",
       "      <td>24</td>\n",
       "      <td>5.0</td>\n",
       "    </tr>\n",
       "    <tr>\n",
       "      <th>24</th>\n",
       "      <td>1</td>\n",
       "      <td>25</td>\n",
       "      <td>2.0</td>\n",
       "    </tr>\n",
       "    <tr>\n",
       "      <th>25</th>\n",
       "      <td>1</td>\n",
       "      <td>26</td>\n",
       "      <td>4.0</td>\n",
       "    </tr>\n",
       "    <tr>\n",
       "      <th>26</th>\n",
       "      <td>1</td>\n",
       "      <td>27</td>\n",
       "      <td>1.0</td>\n",
       "    </tr>\n",
       "    <tr>\n",
       "      <th>27</th>\n",
       "      <td>1</td>\n",
       "      <td>28</td>\n",
       "      <td>3.0</td>\n",
       "    </tr>\n",
       "    <tr>\n",
       "      <th>28</th>\n",
       "      <td>1</td>\n",
       "      <td>29</td>\n",
       "      <td>2.0</td>\n",
       "    </tr>\n",
       "    <tr>\n",
       "      <th>29</th>\n",
       "      <td>1</td>\n",
       "      <td>30</td>\n",
       "      <td>1.0</td>\n",
       "    </tr>\n",
       "    <tr>\n",
       "      <th>...</th>\n",
       "      <td>...</td>\n",
       "      <td>...</td>\n",
       "      <td>...</td>\n",
       "    </tr>\n",
       "    <tr>\n",
       "      <th>1250</th>\n",
       "      <td>32</td>\n",
       "      <td>11</td>\n",
       "      <td>2.0</td>\n",
       "    </tr>\n",
       "    <tr>\n",
       "      <th>1251</th>\n",
       "      <td>32</td>\n",
       "      <td>12</td>\n",
       "      <td>1.0</td>\n",
       "    </tr>\n",
       "    <tr>\n",
       "      <th>1252</th>\n",
       "      <td>32</td>\n",
       "      <td>13</td>\n",
       "      <td>5.0</td>\n",
       "    </tr>\n",
       "    <tr>\n",
       "      <th>1253</th>\n",
       "      <td>32</td>\n",
       "      <td>14</td>\n",
       "      <td>1.0</td>\n",
       "    </tr>\n",
       "    <tr>\n",
       "      <th>1254</th>\n",
       "      <td>32</td>\n",
       "      <td>15</td>\n",
       "      <td>3.0</td>\n",
       "    </tr>\n",
       "    <tr>\n",
       "      <th>1255</th>\n",
       "      <td>32</td>\n",
       "      <td>16</td>\n",
       "      <td>1.0</td>\n",
       "    </tr>\n",
       "    <tr>\n",
       "      <th>1256</th>\n",
       "      <td>32</td>\n",
       "      <td>17</td>\n",
       "      <td>1.0</td>\n",
       "    </tr>\n",
       "    <tr>\n",
       "      <th>1257</th>\n",
       "      <td>32</td>\n",
       "      <td>18</td>\n",
       "      <td>3.0</td>\n",
       "    </tr>\n",
       "    <tr>\n",
       "      <th>1258</th>\n",
       "      <td>32</td>\n",
       "      <td>19</td>\n",
       "      <td>1.0</td>\n",
       "    </tr>\n",
       "    <tr>\n",
       "      <th>1259</th>\n",
       "      <td>32</td>\n",
       "      <td>20</td>\n",
       "      <td>3.0</td>\n",
       "    </tr>\n",
       "    <tr>\n",
       "      <th>1260</th>\n",
       "      <td>32</td>\n",
       "      <td>21</td>\n",
       "      <td>3.0</td>\n",
       "    </tr>\n",
       "    <tr>\n",
       "      <th>1261</th>\n",
       "      <td>32</td>\n",
       "      <td>22</td>\n",
       "      <td>5.0</td>\n",
       "    </tr>\n",
       "    <tr>\n",
       "      <th>1262</th>\n",
       "      <td>32</td>\n",
       "      <td>23</td>\n",
       "      <td>1.0</td>\n",
       "    </tr>\n",
       "    <tr>\n",
       "      <th>1263</th>\n",
       "      <td>32</td>\n",
       "      <td>24</td>\n",
       "      <td>1.0</td>\n",
       "    </tr>\n",
       "    <tr>\n",
       "      <th>1264</th>\n",
       "      <td>32</td>\n",
       "      <td>25</td>\n",
       "      <td>1.0</td>\n",
       "    </tr>\n",
       "    <tr>\n",
       "      <th>1265</th>\n",
       "      <td>32</td>\n",
       "      <td>26</td>\n",
       "      <td>1.0</td>\n",
       "    </tr>\n",
       "    <tr>\n",
       "      <th>1266</th>\n",
       "      <td>32</td>\n",
       "      <td>27</td>\n",
       "      <td>2.0</td>\n",
       "    </tr>\n",
       "    <tr>\n",
       "      <th>1267</th>\n",
       "      <td>32</td>\n",
       "      <td>28</td>\n",
       "      <td>5.0</td>\n",
       "    </tr>\n",
       "    <tr>\n",
       "      <th>1268</th>\n",
       "      <td>32</td>\n",
       "      <td>29</td>\n",
       "      <td>1.0</td>\n",
       "    </tr>\n",
       "    <tr>\n",
       "      <th>1269</th>\n",
       "      <td>32</td>\n",
       "      <td>30</td>\n",
       "      <td>5.0</td>\n",
       "    </tr>\n",
       "    <tr>\n",
       "      <th>1270</th>\n",
       "      <td>32</td>\n",
       "      <td>31</td>\n",
       "      <td>1.0</td>\n",
       "    </tr>\n",
       "    <tr>\n",
       "      <th>1271</th>\n",
       "      <td>32</td>\n",
       "      <td>32</td>\n",
       "      <td>2.0</td>\n",
       "    </tr>\n",
       "    <tr>\n",
       "      <th>1272</th>\n",
       "      <td>32</td>\n",
       "      <td>33</td>\n",
       "      <td>1.0</td>\n",
       "    </tr>\n",
       "    <tr>\n",
       "      <th>1273</th>\n",
       "      <td>32</td>\n",
       "      <td>34</td>\n",
       "      <td>1.0</td>\n",
       "    </tr>\n",
       "    <tr>\n",
       "      <th>1274</th>\n",
       "      <td>32</td>\n",
       "      <td>35</td>\n",
       "      <td>2.0</td>\n",
       "    </tr>\n",
       "    <tr>\n",
       "      <th>1275</th>\n",
       "      <td>32</td>\n",
       "      <td>36</td>\n",
       "      <td>2.0</td>\n",
       "    </tr>\n",
       "    <tr>\n",
       "      <th>1276</th>\n",
       "      <td>32</td>\n",
       "      <td>37</td>\n",
       "      <td>5.0</td>\n",
       "    </tr>\n",
       "    <tr>\n",
       "      <th>1277</th>\n",
       "      <td>32</td>\n",
       "      <td>38</td>\n",
       "      <td>5.0</td>\n",
       "    </tr>\n",
       "    <tr>\n",
       "      <th>1278</th>\n",
       "      <td>32</td>\n",
       "      <td>39</td>\n",
       "      <td>2.0</td>\n",
       "    </tr>\n",
       "    <tr>\n",
       "      <th>1279</th>\n",
       "      <td>32</td>\n",
       "      <td>40</td>\n",
       "      <td>5.0</td>\n",
       "    </tr>\n",
       "  </tbody>\n",
       "</table>\n",
       "<p>1160 rows × 3 columns</p>\n",
       "</div>"
      ],
      "text/plain": [
       "      Participant_id  Trial  Familiarity\n",
       "0                  1      1          4.0\n",
       "1                  1      2          4.0\n",
       "2                  1      3          4.0\n",
       "3                  1      4          4.0\n",
       "4                  1      5          1.0\n",
       "5                  1      6          1.0\n",
       "6                  1      7          3.0\n",
       "7                  1      8          1.0\n",
       "8                  1      9          1.0\n",
       "9                  1     10          1.0\n",
       "10                 1     11          2.0\n",
       "11                 1     12          2.0\n",
       "12                 1     13          1.0\n",
       "13                 1     14          1.0\n",
       "14                 1     15          1.0\n",
       "15                 1     16          4.0\n",
       "16                 1     17          1.0\n",
       "17                 1     18          1.0\n",
       "18                 1     19          4.0\n",
       "19                 1     20          4.0\n",
       "20                 1     21          1.0\n",
       "21                 1     22          2.0\n",
       "22                 1     23          2.0\n",
       "23                 1     24          5.0\n",
       "24                 1     25          2.0\n",
       "25                 1     26          4.0\n",
       "26                 1     27          1.0\n",
       "27                 1     28          3.0\n",
       "28                 1     29          2.0\n",
       "29                 1     30          1.0\n",
       "...              ...    ...          ...\n",
       "1250              32     11          2.0\n",
       "1251              32     12          1.0\n",
       "1252              32     13          5.0\n",
       "1253              32     14          1.0\n",
       "1254              32     15          3.0\n",
       "1255              32     16          1.0\n",
       "1256              32     17          1.0\n",
       "1257              32     18          3.0\n",
       "1258              32     19          1.0\n",
       "1259              32     20          3.0\n",
       "1260              32     21          3.0\n",
       "1261              32     22          5.0\n",
       "1262              32     23          1.0\n",
       "1263              32     24          1.0\n",
       "1264              32     25          1.0\n",
       "1265              32     26          1.0\n",
       "1266              32     27          2.0\n",
       "1267              32     28          5.0\n",
       "1268              32     29          1.0\n",
       "1269              32     30          5.0\n",
       "1270              32     31          1.0\n",
       "1271              32     32          2.0\n",
       "1272              32     33          1.0\n",
       "1273              32     34          1.0\n",
       "1274              32     35          2.0\n",
       "1275              32     36          2.0\n",
       "1276              32     37          5.0\n",
       "1277              32     38          5.0\n",
       "1278              32     39          2.0\n",
       "1279              32     40          5.0\n",
       "\n",
       "[1160 rows x 3 columns]"
      ]
     },
     "execution_count": 54,
     "metadata": {},
     "output_type": "execute_result"
    }
   ],
   "source": [
    "df"
   ]
  },
  {
   "cell_type": "code",
   "execution_count": null,
   "metadata": {},
   "outputs": [],
   "source": []
  }
 ],
 "metadata": {
  "hide_input": false,
  "kernelspec": {
   "display_name": "Python 3",
   "language": "python",
   "name": "python3"
  },
  "language_info": {
   "codemirror_mode": {
    "name": "ipython",
    "version": 3
   },
   "file_extension": ".py",
   "mimetype": "text/x-python",
   "name": "python",
   "nbconvert_exporter": "python",
   "pygments_lexer": "ipython3",
   "version": "3.7.4"
  },
  "toc": {
   "base_numbering": 1,
   "nav_menu": {},
   "number_sections": true,
   "sideBar": true,
   "skip_h1_title": false,
   "title_cell": "Table of Contents",
   "title_sidebar": "Contents",
   "toc_cell": false,
   "toc_position": {},
   "toc_section_display": true,
   "toc_window_display": false
  },
  "varInspector": {
   "cols": {
    "lenName": 16,
    "lenType": 16,
    "lenVar": 40
   },
   "kernels_config": {
    "python": {
     "delete_cmd_postfix": "",
     "delete_cmd_prefix": "del ",
     "library": "var_list.py",
     "varRefreshCmd": "print(var_dic_list())"
    },
    "r": {
     "delete_cmd_postfix": ") ",
     "delete_cmd_prefix": "rm(",
     "library": "var_list.r",
     "varRefreshCmd": "cat(var_dic_list()) "
    }
   },
   "types_to_exclude": [
    "module",
    "function",
    "builtin_function_or_method",
    "instance",
    "_Feature"
   ],
   "window_display": false
  }
 },
 "nbformat": 4,
 "nbformat_minor": 2
}
